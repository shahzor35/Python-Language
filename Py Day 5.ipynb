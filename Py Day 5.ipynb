{
 "cells": [
  {
   "cell_type": "code",
   "execution_count": null,
   "metadata": {
    "colab": {
     "base_uri": "https://localhost:8080/"
    },
    "executionInfo": {
     "elapsed": 5435,
     "status": "ok",
     "timestamp": 1730117636290,
     "user": {
      "displayName": "Shahzor Ahmed",
      "userId": "10102924712430795387"
     },
     "user_tz": -330
    },
    "id": "phlv55gV6-Sf",
    "outputId": "876cafb1-ae82-4850-87e2-d5753eec59c9"
   },
   "outputs": [
    {
     "name": "stdout",
     "output_type": "stream",
     "text": [
      "Enter food name : cake or some thing else: cake\n",
      "yes\n"
     ]
    }
   ],
   "source": [
    "# Ternary operator\n",
    "food = input(\"Enter food name : cake or some thing else: \")\n",
    "result = \"yes\" if food == \"cake\" else \"no\"\n",
    "print(result)"
   ]
  },
  {
   "cell_type": "code",
   "execution_count": null,
   "metadata": {
    "colab": {
     "base_uri": "https://localhost:8080/"
    },
    "executionInfo": {
     "elapsed": 7890,
     "status": "ok",
     "timestamp": 1730117645894,
     "user": {
      "displayName": "Shahzor Ahmed",
      "userId": "10102924712430795387"
     },
     "user_tz": -330
    },
    "id": "XXaH0K9--Lim",
    "outputId": "d6ed516c-68d5-48a4-bb22-1754f1d6d71d"
   },
   "outputs": [
    {
     "name": "stdout",
     "output_type": "stream",
     "text": [
      "Enter food :burger\n",
      "Not Sweet\n"
     ]
    }
   ],
   "source": [
    "food = input(\"Enter food :\")\n",
    "print(\"Sweet\") if food == \"cake\" or food == \"jalebi\" else print(\"Not Sweet\")"
   ]
  },
  {
   "cell_type": "code",
   "execution_count": null,
   "metadata": {
    "colab": {
     "base_uri": "https://localhost:8080/"
    },
    "executionInfo": {
     "elapsed": 4712,
     "status": "ok",
     "timestamp": 1730117653369,
     "user": {
      "displayName": "Shahzor Ahmed",
      "userId": "10102924712430795387"
     },
     "user_tz": -330
    },
    "id": "RP0F5CYS_xjS",
    "outputId": "f61241c7-ee63-42e4-bfcc-0eb62111cd75"
   },
   "outputs": [
    {
     "name": "stdout",
     "output_type": "stream",
     "text": [
      "Enter the day: saturday\n",
      "Its a weekend !!.\n"
     ]
    }
   ],
   "source": [
    "Day = input(\"Enter the day: \")\n",
    "print(\"Its a weekend !!.\") if Day == \"saturday\" or Day == \"sunday\" else print(\"Its a weekday.\")"
   ]
  },
  {
   "cell_type": "code",
   "execution_count": null,
   "metadata": {
    "colab": {
     "base_uri": "https://localhost:8080/"
    },
    "executionInfo": {
     "elapsed": 404,
     "status": "ok",
     "timestamp": 1730117661200,
     "user": {
      "displayName": "Shahzor Ahmed",
      "userId": "10102924712430795387"
     },
     "user_tz": -330
    },
    "id": "46tZqxGLASbb",
    "outputId": "7ac43df2-3e0f-43e7-c178-270b32c5c0f5"
   },
   "outputs": [
    {
     "name": "stdout",
     "output_type": "stream",
     "text": [
      "Eligibale to vote\n"
     ]
    }
   ],
   "source": [
    "age = 20\n",
    "result = (\"Not eligible to vote\",\"Eligibale to vote\")[age >= 18]\n",
    "print(result)"
   ]
  },
  {
   "cell_type": "code",
   "execution_count": null,
   "metadata": {
    "colab": {
     "base_uri": "https://localhost:8080/"
    },
    "executionInfo": {
     "elapsed": 614,
     "status": "ok",
     "timestamp": 1730117668319,
     "user": {
      "displayName": "Shahzor Ahmed",
      "userId": "10102924712430795387"
     },
     "user_tz": -330
    },
    "id": "tZVgpqgXBQdj",
    "outputId": "62774e38-9efa-426d-82c0-ae219bbb68da"
   },
   "outputs": [
    {
     "name": "stdout",
     "output_type": "stream",
     "text": [
      "22.5\n",
      "<class 'float'>\n"
     ]
    }
   ],
   "source": [
    " x = 10;\n",
    " y = 12.5;\n",
    " result = x + y\n",
    " print(result)                # Implicit\n",
    " print(type(result))"
   ]
  },
  {
   "cell_type": "code",
   "execution_count": null,
   "metadata": {
    "colab": {
     "base_uri": "https://localhost:8080/"
    },
    "executionInfo": {
     "elapsed": 616,
     "status": "ok",
     "timestamp": 1730117673544,
     "user": {
      "displayName": "Shahzor Ahmed",
      "userId": "10102924712430795387"
     },
     "user_tz": -330
    },
    "id": "K5k14JpBCbqg",
    "outputId": "647774d4-52d0-4516-f477-bc7cfe63ac91"
   },
   "outputs": [
    {
     "name": "stdout",
     "output_type": "stream",
     "text": [
      "100\n",
      "<class 'int'>\n"
     ]
    }
   ],
   "source": [
    "a = \"100\"\n",
    "b = int(a)\n",
    "print(b)\n",
    "print(type(b))"
   ]
  },
  {
   "cell_type": "code",
   "execution_count": null,
   "metadata": {
    "colab": {
     "base_uri": "https://localhost:8080/"
    },
    "executionInfo": {
     "elapsed": 492,
     "status": "ok",
     "timestamp": 1730117713387,
     "user": {
      "displayName": "Shahzor Ahmed",
      "userId": "10102924712430795387"
     },
     "user_tz": -330
    },
    "id": "0gkCKnpWC0-p",
    "outputId": "e804a438-21c4-4c79-c138-7d87c2a6a9cb"
   },
   "outputs": [
    {
     "name": "stdout",
     "output_type": "stream",
     "text": [
      "30\n",
      "<class 'str'>\n"
     ]
    }
   ],
   "source": [
    "a = 30\n",
    "b = str(a)\n",
    "print(b)\n",
    "print(type(b))"
   ]
  },
  {
   "cell_type": "code",
   "execution_count": null,
   "metadata": {
    "colab": {
     "base_uri": "https://localhost:8080/"
    },
    "executionInfo": {
     "elapsed": 538,
     "status": "ok",
     "timestamp": 1730117789562,
     "user": {
      "displayName": "Shahzor Ahmed",
      "userId": "10102924712430795387"
     },
     "user_tz": -330
    },
    "id": "L5w5Ow4eDTlu",
    "outputId": "a4e054c8-0d4b-4976-a950-9f4372868f21"
   },
   "outputs": [
    {
     "name": "stdout",
     "output_type": "stream",
     "text": [
      "30.12\n",
      "30\n",
      "<class 'int'>\n"
     ]
    }
   ],
   "source": [
    "a = 30.12\n",
    "print(a)\n",
    "b = int(a) # Data will be lossed\n",
    "print(b)\n",
    "print(type(b))"
   ]
  },
  {
   "cell_type": "code",
   "execution_count": null,
   "metadata": {
    "colab": {
     "base_uri": "https://localhost:8080/"
    },
    "executionInfo": {
     "elapsed": 513,
     "status": "ok",
     "timestamp": 1730118016377,
     "user": {
      "displayName": "Shahzor Ahmed",
      "userId": "10102924712430795387"
     },
     "user_tz": -330
    },
    "id": "uZpLfoVbDXSE",
    "outputId": "3923a57e-fb37-4173-e0f2-699544c3e89f"
   },
   "outputs": [
    {
     "name": "stdout",
     "output_type": "stream",
     "text": [
      "Hello\n",
      "Hello 2\n",
      "Hello\n",
      "3 \n"
     ]
    }
   ],
   "source": [
    "message_1 = \"Hello\"\n",
    "message_2 = \"\"\"Hello 2\"\"\"\n",
    "message_3 = '''Hello\n",
    "3 '''\n",
    "print(message_1)\n",
    "print(message_2)\n",
    "print(message_3)"
   ]
  },
  {
   "cell_type": "code",
   "execution_count": null,
   "metadata": {
    "colab": {
     "base_uri": "https://localhost:8080/"
    },
    "executionInfo": {
     "elapsed": 617,
     "status": "ok",
     "timestamp": 1730118098821,
     "user": {
      "displayName": "Shahzor Ahmed",
      "userId": "10102924712430795387"
     },
     "user_tz": -330
    },
    "id": "sXc9pdWBEbSY",
    "outputId": "065a20dc-4d0e-4a50-c53a-f238f9ec0f47"
   },
   "outputs": [
    {
     "name": "stdout",
     "output_type": "stream",
     "text": [
      "Today is a \"beautiful\" day.\n"
     ]
    }
   ],
   "source": [
    "message_4 = 'Today is a \"beautiful\" day.'\n",
    "print(message_4)"
   ]
  },
  {
   "cell_type": "code",
   "execution_count": null,
   "metadata": {
    "colab": {
     "base_uri": "https://localhost:8080/"
    },
    "executionInfo": {
     "elapsed": 722,
     "status": "ok",
     "timestamp": 1730118221697,
     "user": {
      "displayName": "Shahzor Ahmed",
      "userId": "10102924712430795387"
     },
     "user_tz": -330
    },
    "id": "JUJSDsORExp7",
    "outputId": "c367f9d5-b188-445e-8058-b7401d03d35f"
   },
   "outputs": [
    {
     "name": "stdout",
     "output_type": "stream",
     "text": [
      "I \"love\" python.\n",
      "I \"love\" python.\n"
     ]
    }
   ],
   "source": [
    "message_5 = 'I \"love\" python.'\n",
    "message_6 = \"I \\\"love\\\" python.\"\n",
    "print(message_5)\n",
    "print(message_6)"
   ]
  },
  {
   "cell_type": "code",
   "execution_count": null,
   "metadata": {
    "colab": {
     "base_uri": "https://localhost:8080/"
    },
    "executionInfo": {
     "elapsed": 432,
     "status": "ok",
     "timestamp": 1730118258938,
     "user": {
      "displayName": "Shahzor Ahmed",
      "userId": "10102924712430795387"
     },
     "user_tz": -330
    },
    "id": "MI-xOARuFPi7",
    "outputId": "a5eab2b7-a67c-4a2d-9e1e-75f2d6791e08"
   },
   "outputs": [
    {
     "name": "stdout",
     "output_type": "stream",
     "text": [
      "Today is 'Monday'.\n"
     ]
    }
   ],
   "source": [
    "message_7 = \"Today is 'Monday'.\"\n",
    "print(message_7)"
   ]
  },
  {
   "cell_type": "code",
   "execution_count": null,
   "metadata": {
    "colab": {
     "base_uri": "https://localhost:8080/"
    },
    "executionInfo": {
     "elapsed": 461,
     "status": "ok",
     "timestamp": 1730118712807,
     "user": {
      "displayName": "Shahzor Ahmed",
      "userId": "10102924712430795387"
     },
     "user_tz": -330
    },
    "id": "bniUv0cUFYys",
    "outputId": "28217abf-3c70-42e1-d0e3-a1b5d47e0f78"
   },
   "outputs": [
    {
     "name": "stdout",
     "output_type": "stream",
     "text": [
      "Hello World\n"
     ]
    }
   ],
   "source": [
    "str_1 = \"Hello\"\n",
    "str_2 = \"World\"\n",
    "print(str_1 + \" \" + str_2)"
   ]
  },
  {
   "cell_type": "code",
   "execution_count": null,
   "metadata": {
    "colab": {
     "base_uri": "https://localhost:8080/"
    },
    "executionInfo": {
     "elapsed": 619,
     "status": "ok",
     "timestamp": 1730118716905,
     "user": {
      "displayName": "Shahzor Ahmed",
      "userId": "10102924712430795387"
     },
     "user_tz": -330
    },
    "id": "12InufvMF6lN",
    "outputId": "0718221c-ab3a-47fe-9b13-870b9f108211"
   },
   "outputs": [
    {
     "name": "stdout",
     "output_type": "stream",
     "text": [
      "AAAAA\n"
     ]
    }
   ],
   "source": [
    "str_3 = \"A\" * 5\n",
    "print(str_3)"
   ]
  },
  {
   "cell_type": "code",
   "execution_count": null,
   "metadata": {
    "colab": {
     "base_uri": "https://localhost:8080/"
    },
    "executionInfo": {
     "elapsed": 5,
     "status": "ok",
     "timestamp": 1730118718340,
     "user": {
      "displayName": "Shahzor Ahmed",
      "userId": "10102924712430795387"
     },
     "user_tz": -330
    },
    "id": "Gy7TE_ZaGAF8",
    "outputId": "a16a4604-d538-464b-e1fe-5b0b4ce3f956"
   },
   "outputs": [
    {
     "name": "stdout",
     "output_type": "stream",
     "text": [
      "P\n",
      "n\n",
      "o\n",
      "t\n",
      "h\n",
      "yth\n"
     ]
    }
   ],
   "source": [
    "str_4 = \"Python\"\n",
    "# Python\n",
    "# 012345\n",
    "print(str_4[0])\n",
    "print(str_4[-1])\n",
    "print(str_4[-2])\n",
    "print(str_4[2])\n",
    "print(str_4[3])\n",
    "print(str_4[1:4])"
   ]
  },
  {
   "cell_type": "code",
   "execution_count": null,
   "metadata": {
    "colab": {
     "base_uri": "https://localhost:8080/"
    },
    "executionInfo": {
     "elapsed": 615,
     "status": "ok",
     "timestamp": 1730118879517,
     "user": {
      "displayName": "Shahzor Ahmed",
      "userId": "10102924712430795387"
     },
     "user_tz": -330
    },
    "id": "1-jC_Bz7GRD3",
    "outputId": "9463ba70-d877-4150-82d4-6d51ce5a8a18"
   },
   "outputs": [
    {
     "name": "stdout",
     "output_type": "stream",
     "text": [
      "love\n",
      "Python\n",
      "love Python\n",
      " love Python\n"
     ]
    }
   ],
   "source": [
    "str_5 = \"I love Python\"\n",
    "print(str_5[2:6])\n",
    "print(str_5[7:13])\n",
    "print(str_5[2:])\n",
    "print(str_5[1:])"
   ]
  },
  {
   "cell_type": "code",
   "execution_count": null,
   "metadata": {
    "colab": {
     "base_uri": "https://localhost:8080/"
    },
    "executionInfo": {
     "elapsed": 7,
     "status": "ok",
     "timestamp": 1730118971166,
     "user": {
      "displayName": "Shahzor Ahmed",
      "userId": "10102924712430795387"
     },
     "user_tz": -330
    },
    "id": "8Bx5DzHfG6_1",
    "outputId": "1d70162c-fad7-48d2-e76e-9ea4f70035e8"
   },
   "outputs": [
    {
     "name": "stdout",
     "output_type": "stream",
     "text": [
      "HELLO, WORLD!\n",
      "Hello, World!\n"
     ]
    }
   ],
   "source": [
    "text = \"Hello, World!\"\n",
    "result = text.upper();\n",
    "print(result)\n",
    "print(text)"
   ]
  },
  {
   "cell_type": "code",
   "execution_count": null,
   "metadata": {
    "colab": {
     "base_uri": "https://localhost:8080/"
    },
    "executionInfo": {
     "elapsed": 619,
     "status": "ok",
     "timestamp": 1730118989907,
     "user": {
      "displayName": "Shahzor Ahmed",
      "userId": "10102924712430795387"
     },
     "user_tz": -330
    },
    "id": "E3nr7QfPIE8Q",
    "outputId": "fed5cf71-a63a-4e3e-965b-3e022cf2c559"
   },
   "outputs": [
    {
     "name": "stdout",
     "output_type": "stream",
     "text": [
      "hello, world!\n",
      "Hello, World!\n"
     ]
    }
   ],
   "source": [
    "text = \"Hello, World!\"\n",
    "result = text.lower();\n",
    "print(result)\n",
    "print(text)"
   ]
  },
  {
   "cell_type": "code",
   "execution_count": null,
   "metadata": {
    "colab": {
     "base_uri": "https://localhost:8080/"
    },
    "executionInfo": {
     "elapsed": 414,
     "status": "ok",
     "timestamp": 1730119089747,
     "user": {
      "displayName": "Shahzor Ahmed",
      "userId": "10102924712430795387"
     },
     "user_tz": -330
    },
    "id": "uthL7EfpILBq",
    "outputId": "2f199417-93ac-4a41-e75c-6c687258ac3e"
   },
   "outputs": [
    {
     "name": "stdout",
     "output_type": "stream",
     "text": [
      "Hello, World!\n",
      "              Hello, World!                       \n"
     ]
    }
   ],
   "source": [
    "text = \"              Hello, World!                       \"\n",
    "result = text.strip();  # Space between the string will not be removed\n",
    "print(result)\n",
    "print(text)"
   ]
  },
  {
   "cell_type": "code",
   "execution_count": null,
   "metadata": {
    "colab": {
     "base_uri": "https://localhost:8080/"
    },
    "executionInfo": {
     "elapsed": 410,
     "status": "ok",
     "timestamp": 1730119138385,
     "user": {
      "displayName": "Shahzor Ahmed",
      "userId": "10102924712430795387"
     },
     "user_tz": -330
    },
    "id": "t--s5e8IIa7s",
    "outputId": "4c5259e4-de4b-408c-87d7-29979fbe5b99"
   },
   "outputs": [
    {
     "name": "stdout",
     "output_type": "stream",
     "text": [
      "Hello, Python!\n",
      "Hello, World!\n"
     ]
    }
   ],
   "source": [
    "text = \"Hello, World!\"\n",
    "result = text.replace(\"World\", \"Python\");\n",
    "print(result)\n",
    "print(text)"
   ]
  },
  {
   "cell_type": "code",
   "execution_count": null,
   "metadata": {
    "colab": {
     "base_uri": "https://localhost:8080/"
    },
    "executionInfo": {
     "elapsed": 517,
     "status": "ok",
     "timestamp": 1730119349330,
     "user": {
      "displayName": "Shahzor Ahmed",
      "userId": "10102924712430795387"
     },
     "user_tz": -330
    },
    "id": "_MWCMIqeIvaf",
    "outputId": "78ee0690-3a6d-46a7-9760-5a8bef8e347c"
   },
   "outputs": [
    {
     "name": "stdout",
     "output_type": "stream",
     "text": [
      "[10, 20, 30, 40, 50]\n",
      "20\n",
      "40\n"
     ]
    }
   ],
   "source": [
    "sample = [10, 20, 30, 40, 50]\n",
    "print(sample)\n",
    "print(sample[1])\n",
    "print(sample[3])"
   ]
  },
  {
   "cell_type": "code",
   "execution_count": null,
   "metadata": {
    "colab": {
     "base_uri": "https://localhost:8080/"
    },
    "executionInfo": {
     "elapsed": 527,
     "status": "ok",
     "timestamp": 1730119389265,
     "user": {
      "displayName": "Shahzor Ahmed",
      "userId": "10102924712430795387"
     },
     "user_tz": -330
    },
    "id": "OugYelU4JQHE",
    "outputId": "da7912fc-bd1b-4db0-8311-f7ccdcd0e9b7"
   },
   "outputs": [
    {
     "name": "stdout",
     "output_type": "stream",
     "text": [
      "[10, 20, 'abc', 40.3, 50]\n"
     ]
    }
   ],
   "source": [
    "sample_1 = [10, 20, 'abc', 40.3, 50]\n",
    "print(sample_1)"
   ]
  },
  {
   "cell_type": "code",
   "execution_count": null,
   "metadata": {
    "id": "tza_5QWpJsu-"
   },
   "outputs": [],
   "source": [
    "sample = \"Hello,World\"\n",
    "result = sample.split(\",\")\n",
    "print(result)"
   ]
  },
  {
   "cell_type": "code",
   "execution_count": 70,
   "metadata": {
    "colab": {
     "base_uri": "https://localhost:8080/"
    },
    "executionInfo": {
     "elapsed": 1669,
     "status": "ok",
     "timestamp": 1730119891007,
     "user": {
      "displayName": "Shahzor Ahmed",
      "userId": "10102924712430795387"
     },
     "user_tz": -330
    },
    "id": "2pzLgQtaJ-sY",
    "outputId": "e7dfd570-e97d-4ae2-f662-0917d39d4fd5"
   },
   "outputs": [
    {
     "name": "stdout",
     "output_type": "stream",
     "text": [
      "['Python', 'javascript', 'java', 'c++']\n",
      "Python|javascript|java|c++\n"
     ]
    }
   ],
   "source": [
    "programming_languages = \"Python|javascript|java|c++\"\n",
    "programming_languages_list = programming_languages.split(\"|\")\n",
    "print(programming_languages_list)\n",
    "print(programming_languages)"
   ]
  },
  {
   "cell_type": "code",
   "execution_count": 7,
   "metadata": {
    "id": "VovBuYDFLkCh"
   },
   "outputs": [
    {
     "name": "stdout",
     "output_type": "stream",
     "text": [
      "today is a beautiful  day In Hawaii.\n"
     ]
    }
   ],
   "source": [
    "str1 = 'TODAY IS';\n",
    "str2 = '      a beautiful  day      '\n",
    "str3 = ' In Hawaii.     '\n",
    "result = str1.lower()+\" \"+str2.strip()+\" \"+str3.strip()\n",
    "print(result)"
   ]
  },
  {
   "cell_type": "code",
   "execution_count": null,
   "metadata": {},
   "outputs": [],
   "source": []
  }
 ],
 "metadata": {
  "colab": {
   "authorship_tag": "ABX9TyNWABnmYsPEngV3MXUIP/LQ",
   "provenance": []
  },
  "kernelspec": {
   "display_name": "Python 3 (ipykernel)",
   "language": "python",
   "name": "python3"
  },
  "language_info": {
   "codemirror_mode": {
    "name": "ipython",
    "version": 3
   },
   "file_extension": ".py",
   "mimetype": "text/x-python",
   "name": "python",
   "nbconvert_exporter": "python",
   "pygments_lexer": "ipython3",
   "version": "3.10.9"
  }
 },
 "nbformat": 4,
 "nbformat_minor": 4
}
