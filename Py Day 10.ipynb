{
 "cells": [
  {
   "cell_type": "markdown",
   "metadata": {},
   "source": [
    "Dictionary"
   ]
  },
  {
   "cell_type": "code",
   "execution_count": null,
   "metadata": {},
   "outputs": [],
   "source": [
    "student1Name = \"a\"\n",
    "student1Age = 20\n",
    "student1avgMarks = 75"
   ]
  },
  {
   "cell_type": "code",
   "execution_count": 2,
   "metadata": {},
   "outputs": [],
   "source": [
    "car1 = {\n",
    "    \"topSpeed\": \"300km/hr\",\n",
    "    \"color\" : \"red\",\n",
    "    \"Model\": 2020,\n",
    "    \"Brand\": \"Tata\"\n",
    "}"
   ]
  },
  {
   "cell_type": "code",
   "execution_count": 3,
   "metadata": {},
   "outputs": [],
   "source": [
    "student1 = {\n",
    "    \"Name\" : \"a\",\n",
    "    \"Age\": 20,\n",
    "    \"avgMarks\": 75,\n",
    "    \"city\": \"Hyderabad\",\n",
    "    \"phoneNumber\" : 7865538\n",
    "}"
   ]
  },
  {
   "cell_type": "code",
   "execution_count": 4,
   "metadata": {},
   "outputs": [
    {
     "name": "stdout",
     "output_type": "stream",
     "text": [
      "{'Name': 'a', 'Age': 20, 'avgMarks': 75, 'city': 'Hyderabad', 'phoneNumber': 7865538}\n"
     ]
    }
   ],
   "source": [
    "print(student1)"
   ]
  },
  {
   "cell_type": "code",
   "execution_count": 8,
   "metadata": {},
   "outputs": [],
   "source": [
    "student2 = {\n",
    "    \"Name\" : \"b\",\n",
    "    \"Age\": 22,\n",
    "    \"avgMarks\": 75,\n",
    "    \"city\": \"Hyderabad\",\n",
    "    \"phoneNumber\" : 8553834,\n",
    "    \"marks\": [70,80,90]\n",
    "}"
   ]
  },
  {
   "cell_type": "code",
   "execution_count": 9,
   "metadata": {},
   "outputs": [
    {
     "name": "stdout",
     "output_type": "stream",
     "text": [
      "{'Name': 'b', 'Age': 22, 'avgMarks': 75, 'city': 'Hyderabad', 'phoneNumber': 8553834, 'marks': [70, 80, 90]}\n"
     ]
    }
   ],
   "source": [
    "print(student2)"
   ]
  },
  {
   "cell_type": "code",
   "execution_count": 10,
   "metadata": {},
   "outputs": [
    {
     "name": "stdout",
     "output_type": "stream",
     "text": [
      "75\n"
     ]
    }
   ],
   "source": [
    "print(student2[\"avgMarks\"])"
   ]
  },
  {
   "cell_type": "code",
   "execution_count": 11,
   "metadata": {},
   "outputs": [
    {
     "name": "stdout",
     "output_type": "stream",
     "text": [
      "[70, 80, 90]\n"
     ]
    }
   ],
   "source": [
    "print(student2[\"marks\"])"
   ]
  },
  {
   "cell_type": "code",
   "execution_count": 12,
   "metadata": {},
   "outputs": [],
   "source": [
    "student3 = {\n",
    "    \"Name\" : \"b\",\n",
    "    \"Age\": 22,\n",
    "    \"avgMarks\": 75,\n",
    "    \"city\": \"Hyderabad\",\n",
    "    \"phoneNumber\" : 8553834,\n",
    "    \"marks\":{\n",
    "        \"Maths\": 80,\n",
    "        \"Science\": 75,\n",
    "        \"English\": 85\n",
    "    }\n",
    "}"
   ]
  },
  {
   "cell_type": "code",
   "execution_count": 13,
   "metadata": {},
   "outputs": [
    {
     "name": "stdout",
     "output_type": "stream",
     "text": [
      "{'Name': 'b', 'Age': 22, 'avgMarks': 75, 'city': 'Hyderabad', 'phoneNumber': 8553834, 'marks': {'Maths': 80, 'Science': 75, 'English': 85}}\n"
     ]
    }
   ],
   "source": [
    "print(student3)"
   ]
  },
  {
   "cell_type": "code",
   "execution_count": 14,
   "metadata": {},
   "outputs": [
    {
     "name": "stdout",
     "output_type": "stream",
     "text": [
      "{'Maths': 80, 'Science': 75, 'English': 85}\n"
     ]
    }
   ],
   "source": [
    "print(student3[\"marks\"])"
   ]
  },
  {
   "cell_type": "code",
   "execution_count": 16,
   "metadata": {},
   "outputs": [
    {
     "name": "stdout",
     "output_type": "stream",
     "text": [
      "85\n"
     ]
    }
   ],
   "source": [
    "print(student3[\"marks\"][\"English\"])"
   ]
  },
  {
   "cell_type": "code",
   "execution_count": 18,
   "metadata": {},
   "outputs": [
    {
     "name": "stdout",
     "output_type": "stream",
     "text": [
      "Hyderabad\n"
     ]
    }
   ],
   "source": [
    "print(student3.get(\"city\"))"
   ]
  },
  {
   "cell_type": "code",
   "execution_count": 20,
   "metadata": {},
   "outputs": [
    {
     "name": "stdout",
     "output_type": "stream",
     "text": [
      "75\n"
     ]
    }
   ],
   "source": [
    "print(student3.get(\"marks\")[\"Science\"])"
   ]
  },
  {
   "cell_type": "code",
   "execution_count": 22,
   "metadata": {},
   "outputs": [
    {
     "name": "stdout",
     "output_type": "stream",
     "text": [
      "75\n"
     ]
    }
   ],
   "source": [
    "print(student3.get(\"marks\").get(\"Science\"))"
   ]
  },
  {
   "cell_type": "code",
   "execution_count": 35,
   "metadata": {},
   "outputs": [],
   "source": [
    "shahzor = {\n",
    "    \"ID\": 123,\n",
    "    \"office\": \"Asus\",\n",
    "    \"College\": \"MJCET\",\n",
    "    \"Offers\":{\n",
    "        \"Dell\": \"12LPA\",\n",
    "        \"Lenovo\": \"14LPA\",\n",
    "\n",
    "    }\n",
    "}"
   ]
  },
  {
   "cell_type": "code",
   "execution_count": 36,
   "metadata": {},
   "outputs": [
    {
     "name": "stdout",
     "output_type": "stream",
     "text": [
      "{'ID': 123, 'office': 'Asus', 'College': 'MJCET', 'Offers': {'Dell': '12LPA', 'Lenovo': '14LPA'}}\n"
     ]
    }
   ],
   "source": [
    "print(shahzor)"
   ]
  },
  {
   "cell_type": "code",
   "execution_count": 37,
   "metadata": {},
   "outputs": [
    {
     "name": "stdout",
     "output_type": "stream",
     "text": [
      "{'ID': 456, 'office': 'Asus', 'College': 'MJCET', 'Offers': {'Dell': '12LPA', 'Lenovo': '14LPA'}}\n"
     ]
    }
   ],
   "source": [
    "shahzor[\"ID\"] = 456\n",
    "print(shahzor)"
   ]
  },
  {
   "cell_type": "code",
   "execution_count": 38,
   "metadata": {},
   "outputs": [
    {
     "name": "stdout",
     "output_type": "stream",
     "text": [
      "{'ID': 456, 'office': 'Asus', 'College': 'MJCET', 'Offers': {'Dell': '12LPA', 'Lenovo': '14LPA'}, 'Age': 21}\n"
     ]
    }
   ],
   "source": [
    "shahzor[\"Age\"] = 21\n",
    "print(shahzor)"
   ]
  },
  {
   "cell_type": "code",
   "execution_count": 39,
   "metadata": {},
   "outputs": [
    {
     "name": "stdout",
     "output_type": "stream",
     "text": [
      "{'ID': 456, 'office': 'Asus', 'College': 'MJCET', 'Offers': {'Dell': '15LPA', 'Lenovo': '14LPA'}, 'Age': 21}\n"
     ]
    }
   ],
   "source": [
    "shahzor[\"Offers\"][\"Dell\"] = \"15LPA\"\n",
    "print(shahzor)"
   ]
  },
  {
   "cell_type": "code",
   "execution_count": 40,
   "metadata": {},
   "outputs": [
    {
     "name": "stdout",
     "output_type": "stream",
     "text": [
      "{'ID': 456, 'office': 'Asus', 'College': 'MJCET', 'Offers': {'Dell': '15LPA', 'Lenovo': '14LPA'}}\n"
     ]
    }
   ],
   "source": [
    "del shahzor[\"Age\"]\n",
    "print(shahzor)"
   ]
  },
  {
   "cell_type": "code",
   "execution_count": 53,
   "metadata": {},
   "outputs": [
    {
     "name": "stdout",
     "output_type": "stream",
     "text": [
      "{'ID': 456, 'office': 'Asus', 'College': 'MJCET', 'Offers': {'Dell': '15LPA'}}\n"
     ]
    }
   ],
   "source": [
    "del shahzor[\"Offers\"][\"Lenovo\"]\n",
    "print(shahzor)"
   ]
  },
  {
   "cell_type": "code",
   "execution_count": 42,
   "metadata": {},
   "outputs": [
    {
     "name": "stdout",
     "output_type": "stream",
     "text": [
      "dict_values([456, 'Asus', 'MJCET', {'Dell': '15LPA', 'Lenovo': '14LPA'}])\n"
     ]
    }
   ],
   "source": [
    "print(shahzor.values())"
   ]
  },
  {
   "cell_type": "code",
   "execution_count": 43,
   "metadata": {},
   "outputs": [
    {
     "name": "stdout",
     "output_type": "stream",
     "text": [
      "dict_keys(['ID', 'office', 'College', 'Offers'])\n"
     ]
    }
   ],
   "source": [
    "print(shahzor.keys())"
   ]
  },
  {
   "cell_type": "code",
   "execution_count": 50,
   "metadata": {},
   "outputs": [
    {
     "name": "stdout",
     "output_type": "stream",
     "text": [
      "{'Name': 'a', 'Age': 20}\n"
     ]
    }
   ],
   "source": [
    "dict1 = {\n",
    "    \"Name\": \"a\",\n",
    "    \"Age\": 20\n",
    "}\n",
    "print(dict1)"
   ]
  },
  {
   "cell_type": "code",
   "execution_count": 51,
   "metadata": {},
   "outputs": [
    {
     "name": "stdout",
     "output_type": "stream",
     "text": [
      "{'City': 'Hyd', 'Age': 30}\n"
     ]
    }
   ],
   "source": [
    "dict2 = {\n",
    "    \"City\" : \"Hyd\",\n",
    "    \"Age\": 30\n",
    "}\n",
    "print(dict2)"
   ]
  },
  {
   "cell_type": "code",
   "execution_count": 52,
   "metadata": {},
   "outputs": [
    {
     "name": "stdout",
     "output_type": "stream",
     "text": [
      "{'Name': 'a', 'Age': 30, 'City': 'Hyd'}\n"
     ]
    }
   ],
   "source": [
    "dict1.update(dict2)\n",
    "print(dict1)"
   ]
  },
  {
   "cell_type": "code",
   "execution_count": null,
   "metadata": {},
   "outputs": [
    {
     "data": {
      "text/plain": [
       "'Hyd'"
      ]
     },
     "execution_count": 54,
     "metadata": {},
     "output_type": "execute_result"
    }
   ],
   "source": [
    "dict1.pop(\"City\")"
   ]
  },
  {
   "cell_type": "code",
   "execution_count": 55,
   "metadata": {},
   "outputs": [
    {
     "name": "stdout",
     "output_type": "stream",
     "text": [
      "{'Name': 'a', 'Age': 30}\n"
     ]
    }
   ],
   "source": [
    "print(dict1)"
   ]
  },
  {
   "cell_type": "code",
   "execution_count": 56,
   "metadata": {},
   "outputs": [
    {
     "data": {
      "text/plain": [
       "('Age', 30)"
      ]
     },
     "execution_count": 56,
     "metadata": {},
     "output_type": "execute_result"
    }
   ],
   "source": [
    "dict1.popitem()"
   ]
  },
  {
   "cell_type": "code",
   "execution_count": 57,
   "metadata": {},
   "outputs": [
    {
     "name": "stdout",
     "output_type": "stream",
     "text": [
      "{'Name': 'a'}\n"
     ]
    }
   ],
   "source": [
    "print(dict1)"
   ]
  },
  {
   "cell_type": "code",
   "execution_count": 58,
   "metadata": {},
   "outputs": [],
   "source": [
    "dict1.clear()"
   ]
  },
  {
   "cell_type": "code",
   "execution_count": 59,
   "metadata": {},
   "outputs": [
    {
     "name": "stdout",
     "output_type": "stream",
     "text": [
      "{}\n"
     ]
    }
   ],
   "source": [
    "print(dict1)"
   ]
  },
  {
   "cell_type": "code",
   "execution_count": 68,
   "metadata": {},
   "outputs": [],
   "source": [
    "dict1 = {\n",
    "    \"Name\": \"a\",\n",
    "    \"Age\": 21,\n",
    "    \"City\": \"Hyd\",\n",
    "    \"phoneNO\": 132424\n",
    "}"
   ]
  },
  {
   "cell_type": "code",
   "execution_count": 69,
   "metadata": {},
   "outputs": [
    {
     "name": "stdout",
     "output_type": "stream",
     "text": [
      "{'Name': 'b', 'Age': 21, 'City': 'Hyd', 'phoneNO': 132424}\n"
     ]
    }
   ],
   "source": [
    "# shallo copy\n",
    "dic1Copy = dict1.copy()\n",
    "dic1Copy[\"Name\"] = \"b\"\n",
    "print(dic1Copy)"
   ]
  },
  {
   "cell_type": "code",
   "execution_count": 70,
   "metadata": {},
   "outputs": [
    {
     "name": "stdout",
     "output_type": "stream",
     "text": [
      "{'Name': 'a', 'Age': 21, 'City': 'Hyd', 'phoneNO': 132424}\n"
     ]
    }
   ],
   "source": [
    "print(dict1)"
   ]
  },
  {
   "cell_type": "code",
   "execution_count": 73,
   "metadata": {},
   "outputs": [
    {
     "name": "stdout",
     "output_type": "stream",
     "text": [
      "{'Name': 'b', 'Age': 21, 'City': 'Hyd', 'phoneNO': 132424}\n",
      "{'Name': 'a', 'Age': 21, 'City': 'Hyd', 'phoneNO': 132424}\n"
     ]
    }
   ],
   "source": [
    "# deep copy\n",
    "import copy\n",
    "dict1 = {\n",
    "    \"Name\": \"a\",\n",
    "    \"Age\": 21,\n",
    "    \"City\": \"Hyd\",\n",
    "    \"phoneNO\": 132424\n",
    "}\n",
    "dic1Copy = copy.deepcopy(dict1)\n",
    "dic1Copy[\"Name\"] = \"b\"\n",
    "print(dic1Copy)\n",
    "print(dict1)"
   ]
  },
  {
   "cell_type": "code",
   "execution_count": 90,
   "metadata": {},
   "outputs": [],
   "source": [
    "fruit_prices = {\n",
    "    \"apple\": 1.5,\n",
    "    \"banana\": 0.5,\n",
    "    \"orange\": 0.75\n",
    "}"
   ]
  },
  {
   "cell_type": "code",
   "execution_count": 95,
   "metadata": {},
   "outputs": [
    {
     "name": "stdout",
     "output_type": "stream",
     "text": [
      "dict_keys(['apple', 'banana', 'orange'])\n",
      "dict_values([1.5, 5.0, 0.75])\n"
     ]
    }
   ],
   "source": [
    "# print all the fruit names and their prices\n",
    "print(fruit_prices.keys())\n",
    "print(fruit_prices.values())"
   ]
  },
  {
   "cell_type": "code",
   "execution_count": 96,
   "metadata": {},
   "outputs": [
    {
     "name": "stdout",
     "output_type": "stream",
     "text": [
      "{'apple': 1.5, 'banana': 5.0, 'orange': 0.75, 'peach': 10}\n"
     ]
    }
   ],
   "source": [
    "# Add a new fruit with its price\n",
    "fruit_prices[\"peach\"] = 10\n",
    "print(fruit_prices)"
   ]
  },
  {
   "cell_type": "code",
   "execution_count": 97,
   "metadata": {},
   "outputs": [
    {
     "name": "stdout",
     "output_type": "stream",
     "text": [
      "{'apple': 1.5, 'banana': 5.0, 'orange': 0.75, 'peach': 10}\n"
     ]
    }
   ],
   "source": [
    "# Update the price of one existing fruit\n",
    "fruit_prices[\"banana\"] = 5.0\n",
    "print(fruit_prices)"
   ]
  },
  {
   "cell_type": "code",
   "execution_count": 98,
   "metadata": {},
   "outputs": [
    {
     "name": "stdout",
     "output_type": "stream",
     "text": [
      "{'apple': 1.5, 'banana': 5.0, 'orange': 0.75}\n"
     ]
    }
   ],
   "source": [
    "# Remove one fruit from the dictionary\n",
    "del fruit_prices[\"peach\"]\n",
    "print(fruit_prices)"
   ]
  }
 ],
 "metadata": {
  "kernelspec": {
   "display_name": "your_environment_name",
   "language": "python",
   "name": "your_environment_name"
  },
  "language_info": {
   "codemirror_mode": {
    "name": "ipython",
    "version": 3
   },
   "file_extension": ".py",
   "mimetype": "text/x-python",
   "name": "python",
   "nbconvert_exporter": "python",
   "pygments_lexer": "ipython3",
   "version": "3.10.9"
  }
 },
 "nbformat": 4,
 "nbformat_minor": 2
}
