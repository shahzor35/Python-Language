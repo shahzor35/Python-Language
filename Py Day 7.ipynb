{
 "cells": [
  {
   "cell_type": "code",
   "execution_count": 2,
   "id": "6df4c9cc-b96e-4ba8-a505-043eb05fe70a",
   "metadata": {},
   "outputs": [
    {
     "name": "stdout",
     "output_type": "stream",
     "text": [
      "30\n"
     ]
    }
   ],
   "source": [
    "my_list = [10,20,30,40,50]\n",
    "print(my_list[2])"
   ]
  },
  {
   "cell_type": "code",
   "execution_count": 3,
   "id": "45bfd055-500c-403e-a6f4-554c7985127d",
   "metadata": {},
   "outputs": [
    {
     "name": "stdout",
     "output_type": "stream",
     "text": [
      "[[1, 2, 3]]\n"
     ]
    }
   ],
   "source": [
    "my_list_1 = [[1,2,3,]]\n",
    "print(my_list_1)"
   ]
  },
  {
   "cell_type": "code",
   "execution_count": 4,
   "id": "a9e67dbd-3e75-42f5-81f4-05b77713979f",
   "metadata": {},
   "outputs": [
    {
     "name": "stdout",
     "output_type": "stream",
     "text": [
      "[1, 2]\n"
     ]
    }
   ],
   "source": [
    "my_list_1 = [[1,2],[3,4]]\n",
    "print(my_list_1[0])"
   ]
  },
  {
   "cell_type": "code",
   "execution_count": 5,
   "id": "337c6972-0742-4aff-a1b6-01005e402d39",
   "metadata": {},
   "outputs": [
    {
     "name": "stdout",
     "output_type": "stream",
     "text": [
      "[3, 4]\n"
     ]
    }
   ],
   "source": [
    "my_list_1 = [[1,2],[3,4]]\n",
    "print(my_list_1[1])"
   ]
  },
  {
   "cell_type": "code",
   "execution_count": 6,
   "id": "d8e81210-5c4d-4859-a803-95b3d9b692ac",
   "metadata": {},
   "outputs": [
    {
     "name": "stdout",
     "output_type": "stream",
     "text": [
      "4\n"
     ]
    }
   ],
   "source": [
    "print(my_list_1[1][1])"
   ]
  },
  {
   "cell_type": "code",
   "execution_count": 7,
   "id": "a5f89fba-6aa6-4b79-a49c-31a408c35d2b",
   "metadata": {},
   "outputs": [
    {
     "name": "stdout",
     "output_type": "stream",
     "text": [
      "9\n"
     ]
    }
   ],
   "source": [
    "my_list_1 = [[1,2],[3,4],[6,7,9]]\n",
    "print(my_list_1[2][2])"
   ]
  },
  {
   "cell_type": "code",
   "execution_count": 9,
   "id": "010a4513-c9dd-4e95-bcd8-6d56cdb19641",
   "metadata": {},
   "outputs": [
    {
     "name": "stdout",
     "output_type": "stream",
     "text": [
      "3\n"
     ]
    }
   ],
   "source": [
    "print(my_list_1[1][0])"
   ]
  },
  {
   "cell_type": "code",
   "execution_count": 10,
   "id": "ee16f38f-28b2-475d-a7c3-0896f6970a90",
   "metadata": {},
   "outputs": [
    {
     "name": "stdout",
     "output_type": "stream",
     "text": [
      "[2, 3, 4]\n"
     ]
    }
   ],
   "source": [
    "my_list_1 = [1,2,3,4,6,7,9];\n",
    "print(my_list_1[1:4])"
   ]
  },
  {
   "cell_type": "code",
   "execution_count": 12,
   "id": "a582894a-a937-4e44-8210-3330821fddea",
   "metadata": {},
   "outputs": [
    {
     "name": "stdout",
     "output_type": "stream",
     "text": [
      "[4, 6, 7]\n"
     ]
    }
   ],
   "source": [
    "my_list_1 = [1,2,3,4,6,7,9];\n",
    "print(my_list_1[3:6])"
   ]
  },
  {
   "cell_type": "code",
   "execution_count": 13,
   "id": "dd07929f-2578-480a-a6c0-7038e9c49fc7",
   "metadata": {},
   "outputs": [
    {
     "name": "stdout",
     "output_type": "stream",
     "text": [
      "[3, 4, 6]\n"
     ]
    }
   ],
   "source": [
    "print(my_list_1[2:5])"
   ]
  },
  {
   "cell_type": "code",
   "execution_count": 18,
   "id": "4280c8a4-82b6-4ce5-a6f2-002595ee6917",
   "metadata": {},
   "outputs": [
    {
     "name": "stdout",
     "output_type": "stream",
     "text": [
      "[1, 2, 3, 5, 6, 7, 9]\n",
      "[1, 2, 5, 7, 9]\n"
     ]
    }
   ],
   "source": [
    "myList = [1,2,3,4,6,7,9]\n",
    "myList[3] = 5\n",
    "print(myList)\n",
    "myList[2:5] = [5]    # from 2 to 5 items are removed and 5 will be added to it\n",
    "print(myList)"
   ]
  },
  {
   "cell_type": "code",
   "execution_count": 19,
   "id": "7cd33a74-372e-450a-816f-ffd2d11116dc",
   "metadata": {},
   "outputs": [
    {
     "name": "stdout",
     "output_type": "stream",
     "text": [
      "[1, 2, 10, 20, 9, 6, 1, 20]\n"
     ]
    }
   ],
   "source": [
    "myList = [1,2,3,4,6,7,9,6,1,20]\n",
    "myList[2:6] = [10,20]\n",
    "print(myList)"
   ]
  },
  {
   "cell_type": "code",
   "execution_count": 24,
   "id": "779aef8d-6968-43c7-9c07-3e38d6a35449",
   "metadata": {},
   "outputs": [
    {
     "name": "stdout",
     "output_type": "stream",
     "text": [
      "[10, 20, 30, 40]\n"
     ]
    }
   ],
   "source": [
    "myList_2 = [10,20,30]\n",
    "myList_2.append(40)\n",
    "print(myList_2)"
   ]
  },
  {
   "cell_type": "code",
   "execution_count": 25,
   "id": "93349bc4-d288-4564-8868-53856aa73b8e",
   "metadata": {},
   "outputs": [
    {
     "name": "stdout",
     "output_type": "stream",
     "text": [
      "[10, 20, 30, [40, 50]]\n"
     ]
    }
   ],
   "source": [
    "myList_3 = [10,20,30]\n",
    "myList_3.append([40,50])\n",
    "print(myList_3)"
   ]
  },
  {
   "cell_type": "code",
   "execution_count": 27,
   "id": "d3043e1d-2a6b-4e0b-838b-e78bbe20601a",
   "metadata": {},
   "outputs": [
    {
     "name": "stdout",
     "output_type": "stream",
     "text": [
      "[10, 20, 30, [40, 50, 60]]\n"
     ]
    }
   ],
   "source": [
    "list1 = [10,20,30];\n",
    "list2 = [40,50,60];\n",
    "list1.append(list2)\n",
    "print(list1)"
   ]
  },
  {
   "cell_type": "code",
   "execution_count": 28,
   "id": "72218523-46da-4025-9277-06368d36e18e",
   "metadata": {},
   "outputs": [
    {
     "name": "stdout",
     "output_type": "stream",
     "text": [
      "[10, 20, 30, 40, 50, 60]\n"
     ]
    }
   ],
   "source": [
    "list1 = [10,20,30];\n",
    "list2 = [40,50,60];\n",
    "list1.extend(list2)\n",
    "print(list1)"
   ]
  },
  {
   "cell_type": "code",
   "execution_count": 30,
   "id": "49390032-ae3c-478f-ae82-7bcaa18c4e14",
   "metadata": {},
   "outputs": [
    {
     "name": "stdout",
     "output_type": "stream",
     "text": [
      "[10, 20, 30, 15, 40, 50]\n"
     ]
    }
   ],
   "source": [
    "list1 = [10,20,30,40,50]\n",
    "list1.insert(3,15)  # insert item at that position\n",
    "print(list1)"
   ]
  },
  {
   "cell_type": "code",
   "execution_count": 33,
   "id": "d3ab2c70-f98b-4872-bd97-7cfe2e979855",
   "metadata": {},
   "outputs": [
    {
     "name": "stdout",
     "output_type": "stream",
     "text": [
      "[10, 20, 30, 40, 50]\n",
      "[10, 30, 40, 50]\n"
     ]
    }
   ],
   "source": [
    "list1 = [10,20,30,40,50]\n",
    "print(list1)\n",
    "list1.remove(20)\n",
    "print(list1)"
   ]
  },
  {
   "cell_type": "code",
   "execution_count": 37,
   "id": "ff12d25c-7307-4271-a9e8-03be3598b5bd",
   "metadata": {},
   "outputs": [
    {
     "name": "stdout",
     "output_type": "stream",
     "text": [
      "[10, 20, 30, 40, 20, 50]\n",
      "[10, 30, 40, 20, 50]\n"
     ]
    }
   ],
   "source": [
    "list1 = [10,20,30,40,20,50]\n",
    "print(list1)\n",
    "list1.remove(20)\n",
    "print(list1)"
   ]
  },
  {
   "cell_type": "code",
   "execution_count": 39,
   "id": "bb1aeb97-46db-4a4b-8a84-72f955d400b9",
   "metadata": {},
   "outputs": [
    {
     "name": "stdout",
     "output_type": "stream",
     "text": [
      "[10, 20, 30, 40, 50]\n",
      "[10, 20, 30, 40]\n"
     ]
    }
   ],
   "source": [
    "list1 = [10,20,30,40,50]\n",
    "print(list1)\n",
    "list1.pop()\n",
    "print(list1)"
   ]
  },
  {
   "cell_type": "code",
   "execution_count": 40,
   "id": "7603376c-cc2a-4067-a6bf-f264ad39acfa",
   "metadata": {},
   "outputs": [
    {
     "name": "stdout",
     "output_type": "stream",
     "text": [
      "[10, 20, 30, 40, 50]\n",
      "[10, 20, 30]\n"
     ]
    }
   ],
   "source": [
    "list1 = [10,20,30,40,50]\n",
    "print(list1)\n",
    "list1.pop()\n",
    "list1.pop()\n",
    "print(list1)"
   ]
  },
  {
   "cell_type": "code",
   "execution_count": 41,
   "id": "e4e0bac9-929a-412d-8064-614c6ff1dcf9",
   "metadata": {},
   "outputs": [
    {
     "name": "stdout",
     "output_type": "stream",
     "text": [
      "[10, 20, 30, 40, 50]\n",
      "[10, 20]\n"
     ]
    }
   ],
   "source": [
    "list1 = [10,20,30,40,50]\n",
    "print(list1)\n",
    "list1.pop()\n",
    "list1.pop()\n",
    "list1.pop()\n",
    "print(list1)"
   ]
  },
  {
   "cell_type": "code",
   "execution_count": 44,
   "id": "a2112526-0b9e-4d3a-8333-2b1a75ffb136",
   "metadata": {},
   "outputs": [
    {
     "name": "stdout",
     "output_type": "stream",
     "text": [
      "[10, 20, 30, 40, 50]\n",
      "[10, 20, 40, 50]\n"
     ]
    }
   ],
   "source": [
    "list1 = [10,20,30,40,50]\n",
    "print(list1)\n",
    "list1.pop(2) # if value is passed then indexed value will be removed\n",
    "print(list1)"
   ]
  },
  {
   "cell_type": "code",
   "execution_count": 47,
   "id": "4951e874-7496-4ae2-a360-28607bf0892f",
   "metadata": {},
   "outputs": [
    {
     "name": "stdout",
     "output_type": "stream",
     "text": [
      "3\n"
     ]
    }
   ],
   "source": [
    "list1 = [10,20,30,40,50]\n",
    "print(list1.index(40))  # It will print position value of that element"
   ]
  },
  {
   "cell_type": "code",
   "execution_count": 48,
   "id": "d5cb8938-8c32-45b9-9f8f-148841a5f537",
   "metadata": {},
   "outputs": [
    {
     "name": "stdout",
     "output_type": "stream",
     "text": [
      "2\n"
     ]
    }
   ],
   "source": [
    "list1 = [10,20,30,40,50,30]\n",
    "print(list1.count(30))"
   ]
  },
  {
   "cell_type": "code",
   "execution_count": 50,
   "id": "962702e3-4f50-4781-a1d0-46a178df6890",
   "metadata": {},
   "outputs": [
    {
     "name": "stdout",
     "output_type": "stream",
     "text": [
      "[1, 2, 3, 4, 5, 6, 8]\n"
     ]
    }
   ],
   "source": [
    "list1 = [1,3,2,8,4,5,6];\n",
    "list1.sort(); # asending order\n",
    "print(list1)"
   ]
  },
  {
   "cell_type": "code",
   "execution_count": 52,
   "id": "98b02429-daf7-49f0-9d07-82e558b3caa8",
   "metadata": {},
   "outputs": [
    {
     "name": "stdout",
     "output_type": "stream",
     "text": [
      "[8, 6, 5, 4, 3, 2, 1]\n"
     ]
    }
   ],
   "source": [
    "list1 = [1,3,2,8,4,5,6];\n",
    "list1.sort(reverse = True); # desending order\n",
    "print(list1)"
   ]
  },
  {
   "cell_type": "code",
   "execution_count": 53,
   "id": "8b885292-72e9-4f8f-a57d-24791c1207eb",
   "metadata": {},
   "outputs": [
    {
     "name": "stdout",
     "output_type": "stream",
     "text": [
      "['a', 'b', 'c', 'p']\n"
     ]
    }
   ],
   "source": [
    "list1 = [\"c\", \"b\", \"p\", \"a\"];\n",
    "list1.sort(); # asending order\n",
    "print(list1)"
   ]
  },
  {
   "cell_type": "code",
   "execution_count": 54,
   "id": "a194b539-4b6b-4880-bbda-12f7f9365dad",
   "metadata": {},
   "outputs": [
    {
     "name": "stdout",
     "output_type": "stream",
     "text": [
      "[4, 9, 5, 3, 1]\n"
     ]
    }
   ],
   "source": [
    "list1 = [1,3,5,9,4]\n",
    "list1.reverse()\n",
    "print(list1)"
   ]
  },
  {
   "cell_type": "code",
   "execution_count": 55,
   "id": "fec1879a-3538-49ff-9001-353e7887a2a2",
   "metadata": {},
   "outputs": [
    {
     "name": "stdout",
     "output_type": "stream",
     "text": [
      "[]\n"
     ]
    }
   ],
   "source": [
    "list1 = [1,3,5,9,4]\n",
    "list1.clear();\n",
    "print(list1)"
   ]
  },
  {
   "cell_type": "code",
   "execution_count": null,
   "id": "a5bb9b3e-fc98-40a3-a145-05108401de27",
   "metadata": {},
   "outputs": [],
   "source": []
  }
 ],
 "metadata": {
  "kernelspec": {
   "display_name": "Python 3 (ipykernel)",
   "language": "python",
   "name": "python3"
  },
  "language_info": {
   "codemirror_mode": {
    "name": "ipython",
    "version": 3
   },
   "file_extension": ".py",
   "mimetype": "text/x-python",
   "name": "python",
   "nbconvert_exporter": "python",
   "pygments_lexer": "ipython3",
   "version": "3.10.9"
  }
 },
 "nbformat": 4,
 "nbformat_minor": 5
}
