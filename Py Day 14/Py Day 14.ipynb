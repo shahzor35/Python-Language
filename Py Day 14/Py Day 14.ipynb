{
 "cells": [
  {
   "cell_type": "markdown",
   "metadata": {},
   "source": [
    "File I/O operation's"
   ]
  },
  {
   "cell_type": "code",
   "execution_count": 14,
   "metadata": {},
   "outputs": [
    {
     "name": "stdout",
     "output_type": "stream",
     "text": [
      "Today is Monday !! \n"
     ]
    }
   ],
   "source": [
    "file = open(\"C:/Users/91707/OneDrive/Desktop/Full Stack Academy/Python stuff/Py Day 14/sample.txt\", \"r\")\n",
    "content = file.read()\n",
    "file.close()\n",
    "print(content)"
   ]
  },
  {
   "cell_type": "code",
   "execution_count": 8,
   "metadata": {},
   "outputs": [
    {
     "name": "stdout",
     "output_type": "stream",
     "text": [
      "To\n"
     ]
    }
   ],
   "source": [
    "file = open(\"C:/Users/91707/OneDrive/Desktop/Full Stack Academy/Python stuff/Py Day 14/sample.txt\", \"r\")\n",
    "content = file.read(2)\n",
    "print(content)"
   ]
  },
  {
   "cell_type": "code",
   "execution_count": 9,
   "metadata": {},
   "outputs": [
    {
     "name": "stdout",
     "output_type": "stream",
     "text": [
      "This is first line\n",
      "This is secound line\n",
      "\n"
     ]
    }
   ],
   "source": [
    "file_1 = open(\"C:/Users/91707/OneDrive/Desktop/Full Stack Academy/Python stuff/Py Day 14/sample_1.txt\", \"w\")\n",
    "file_1.write(\"This is first line\\n\")\n",
    "file_1.write(\"This is secound line\\n\")\n",
    "file_1.close()\n",
    "file_1 = open(\"C:/Users/91707/OneDrive/Desktop/Full Stack Academy/Python stuff/Py Day 14/sample_1.txt\", \"r\")\n",
    "content = file_1.read()\n",
    "print(content)"
   ]
  },
  {
   "cell_type": "code",
   "execution_count": 10,
   "metadata": {},
   "outputs": [
    {
     "name": "stdout",
     "output_type": "stream",
     "text": [
      "This is first line\n",
      "This is secound line\n",
      "This is third line\n"
     ]
    }
   ],
   "source": [
    "file_2 = open(\"C:/Users/91707/OneDrive/Desktop/Full Stack Academy/Python stuff/Py Day 14/sample_1.txt\", \"a\")\n",
    "file_2.write(\"This is third line\")\n",
    "file_2.close()\n",
    "file_2 = open(\"C:/Users/91707/OneDrive/Desktop/Full Stack Academy/Python stuff/Py Day 14/sample_1.txt\", \"r\")\n",
    "content = file_2.read()\n",
    "print(content)"
   ]
  },
  {
   "cell_type": "code",
   "execution_count": 13,
   "metadata": {},
   "outputs": [],
   "source": [
    "with open(\"C:/Users/91707/OneDrive/Desktop/Full Stack Academy/Python stuff/Py Day 14/Land Cruiser.jpg\", \"rb\") as file:\n",
    "    binary_data = file.read()\n",
    "with open(\"C:/Users/91707/OneDrive/Desktop/Full Stack Academy/Python stuff/Py Day 14/Land Cruiser_1.jpg\", \"wb\") as file:\n",
    "    file.write(binary_data)\n",
    "\n",
    "# with is used to close file automatically"
   ]
  },
  {
   "cell_type": "code",
   "execution_count": 17,
   "metadata": {},
   "outputs": [
    {
     "name": "stdout",
     "output_type": "stream",
     "text": [
      "Today is Monday !! \n"
     ]
    }
   ],
   "source": [
    "with open(\"C:/Users/91707/OneDrive/Desktop/Full Stack Academy/Python stuff/Py Day 14/sample.txt\", \"r\") as file:\n",
    "    content = file.read()\n",
    "print(content)"
   ]
  },
  {
   "cell_type": "code",
   "execution_count": 18,
   "metadata": {},
   "outputs": [
    {
     "name": "stdout",
     "output_type": "stream",
     "text": [
      "File exits\n"
     ]
    }
   ],
   "source": [
    "import os\n",
    "if os.path.exists(\"C:/Users/91707/OneDrive/Desktop/Full Stack Academy/Python stuff/Py Day 14/sample.txt\"):\n",
    "    print(\"File exits\")\n",
    "else:\n",
    "    print(\"File does not exits\")"
   ]
  },
  {
   "cell_type": "code",
   "execution_count": 19,
   "metadata": {},
   "outputs": [
    {
     "name": "stdout",
     "output_type": "stream",
     "text": [
      "File does not exits\n"
     ]
    }
   ],
   "source": [
    "import os\n",
    "if os.path.exists(\"C:/Users/91707/OneDrive/Desktop/Full Stack Academy/Python stuff/Py Day 14/sample2.txt\"):\n",
    "    print(\"File exits\")\n",
    "else:\n",
    "    print(\"File does not exits\")"
   ]
  },
  {
   "cell_type": "code",
   "execution_count": 23,
   "metadata": {},
   "outputs": [
    {
     "name": "stdout",
     "output_type": "stream",
     "text": [
      "File is there.\n"
     ]
    }
   ],
   "source": [
    "from pathlib import Path\n",
    "file = Path(\"C:/Users/91707/OneDrive/Desktop/Full Stack Academy/Python stuff/Py Day 14/sample.txt\")\n",
    "if (file.is_file()):\n",
    "    print(\"File is there.\")\n",
    "else:\n",
    "    print(\"File is not there\")"
   ]
  },
  {
   "cell_type": "code",
   "execution_count": 24,
   "metadata": {},
   "outputs": [
    {
     "name": "stdout",
     "output_type": "stream",
     "text": [
      "File is not there\n"
     ]
    }
   ],
   "source": [
    "from pathlib import Path\n",
    "file = Path(\"C:/Users/91707/OneDrive/Desktop/Full Stack Academy/Python stuff/Py Day 14/sample2.txt\")\n",
    "file\n",
    "if (file.is_file()):\n",
    "    print(\"File is there.\")\n",
    "else:\n",
    "    print(\"File is not there\")"
   ]
  },
  {
   "cell_type": "code",
   "execution_count": 25,
   "metadata": {},
   "outputs": [],
   "source": [
    "import os\n",
    "os.remove(\"C:/Users/91707/OneDrive/Desktop/Full Stack Academy/Python stuff/Py Day 14/remove.txt\")"
   ]
  },
  {
   "cell_type": "code",
   "execution_count": 26,
   "metadata": {},
   "outputs": [],
   "source": [
    "import os\n",
    "os.rename(\"C:/Users/91707/OneDrive/Desktop/Full Stack Academy/Python stuff/Py Day 14/Land Cruiser_1.jpg\", \"C:/Users/91707/OneDrive/Desktop/Full Stack Academy/Python stuff/Py Day 14/Land Cruiser1.jpg\")"
   ]
  },
  {
   "cell_type": "code",
   "execution_count": 27,
   "metadata": {},
   "outputs": [
    {
     "name": "stdout",
     "output_type": "stream",
     "text": [
      "['', 'mpg', 'cyl', 'disp', 'hp', 'drat', 'wt', 'qsec', 'vs', 'am', 'gear', 'carb']\n",
      "['Mazda RX4', '21', '6', '160', '110', '3.9', '2.62', '16.46', '0', '1', '4', '4']\n",
      "['Mazda RX4 Wag', '21', '6', '160', '110', '3.9', '2.875', '17.02', '0', '1', '4', '4']\n",
      "['Datsun 710', '22.8', '4', '108', '93', '3.85', '2.32', '18.61', '1', '1', '4', '1']\n",
      "['Hornet 4 Drive', '21.4', '6', '258', '110', '3.08', '3.215', '19.44', '1', '0', '3', '1']\n",
      "['Hornet Sportabout', '18.7', '8', '360', '175', '3.15', '3.44', '17.02', '0', '0', '3', '2']\n",
      "['Valiant', '18.1', '6', '225', '105', '2.76', '3.46', '20.22', '1', '0', '3', '1']\n",
      "['Duster 360', '14.3', '8', '360', '245', '3.21', '3.57', '15.84', '0', '0', '3', '4']\n",
      "['Merc 240D', '24.4', '4', '146.7', '62', '3.69', '3.19', '20', '1', '0', '4', '2']\n",
      "['Merc 230', '22.8', '4', '140.8', '95', '3.92', '3.15', '22.9', '1', '0', '4', '2']\n",
      "['Merc 280', '19.2', '6', '167.6', '123', '3.92', '3.44', '18.3', '1', '0', '4', '4']\n",
      "['Merc 280C', '17.8', '6', '167.6', '123', '3.92', '3.44', '18.9', '1', '0', '4', '4']\n",
      "['Merc 450SE', '16.4', '8', '275.8', '180', '3.07', '4.07', '17.4', '0', '0', '3', '3']\n",
      "['Merc 450SL', '17.3', '8', '275.8', '180', '3.07', '3.73', '17.6', '0', '0', '3', '3']\n",
      "['Merc 450SLC', '15.2', '8', '275.8', '180', '3.07', '3.78', '18', '0', '0', '3', '3']\n",
      "['Cadillac Fleetwood', '10.4', '8', '472', '205', '2.93', '5.25', '17.98', '0', '0', '3', '4']\n",
      "['Lincoln Continental', '10.4', '8', '460', '215', '3', '5.424', '17.82', '0', '0', '3', '4']\n",
      "['Chrysler Imperial', '14.7', '8', '440', '230', '3.23', '5.345', '17.42', '0', '0', '3', '4']\n",
      "['Fiat 128', '32.4', '4', '78.7', '66', '4.08', '2.2', '19.47', '1', '1', '4', '1']\n",
      "['Honda Civic', '30.4', '4', '75.7', '52', '4.93', '1.615', '18.52', '1', '1', '4', '2']\n",
      "['Toyota Corolla', '33.9', '4', '71.1', '65', '4.22', '1.835', '19.9', '1', '1', '4', '1']\n",
      "['Toyota Corona', '21.5', '4', '120.1', '97', '3.7', '2.465', '20.01', '1', '0', '3', '1']\n",
      "['Dodge Challenger', '15.5', '8', '318', '150', '2.76', '3.52', '16.87', '0', '0', '3', '2']\n",
      "['AMC Javelin', '15.2', '8', '304', '150', '3.15', '3.435', '17.3', '0', '0', '3', '2']\n",
      "['Camaro Z28', '13.3', '8', '350', '245', '3.73', '3.84', '15.41', '0', '0', '3', '4']\n",
      "['Pontiac Firebird', '19.2', '8', '400', '175', '3.08', '3.845', '17.05', '0', '0', '3', '2']\n",
      "['Fiat X1-9', '27.3', '4', '79', '66', '4.08', '1.935', '18.9', '1', '1', '4', '1']\n",
      "['Porsche 914-2', '26', '4', '120.3', '91', '4.43', '2.14', '16.7', '0', '1', '5', '2']\n",
      "['Lotus Europa', '30.4', '4', '95.1', '113', '3.77', '1.513', '16.9', '1', '1', '5', '2']\n",
      "['Ford Pantera L', '15.8', '8', '351', '264', '4.22', '3.17', '14.5', '0', '1', '5', '4']\n",
      "['Ferrari Dino', '19.7', '6', '145', '175', '3.62', '2.77', '15.5', '0', '1', '5', '6']\n",
      "['Maserati Bora', '15', '8', '301', '335', '3.54', '3.57', '14.6', '0', '1', '5', '8']\n",
      "['Volvo 142E', '21.4', '4', '121', '109', '4.11', '2.78', '18.6', '1', '1', '4', '2']\n"
     ]
    }
   ],
   "source": [
    "import csv\n",
    "with open(\"C:/Users/91707/OneDrive/Desktop/Full Stack Academy/Python stuff/Py Day 14/cars.csv\") as file:\n",
    "    reader = csv.reader(file)\n",
    "    for row in reader:\n",
    "        print(row)"
   ]
  },
  {
   "cell_type": "code",
   "execution_count": 28,
   "metadata": {},
   "outputs": [],
   "source": [
    "import csv\n",
    "with open(\"C:/Users/91707/OneDrive/Desktop/Full Stack Academy/Python stuff/Py Day 14/user.csv\",\"w\", newline='') as file:\n",
    "    writer = csv.writer(file)\n",
    "    writer.writerow([\"Name\", \"Age\", \"City\"])\n",
    "    writer.writerow([\"A\", \"21\", \"Hyd\"])\n",
    "    writer.writerow([\"B\", \"22\", \"Nzb\"])\n"
   ]
  }
 ],
 "metadata": {
  "kernelspec": {
   "display_name": "your_environment_name",
   "language": "python",
   "name": "your_environment_name"
  },
  "language_info": {
   "codemirror_mode": {
    "name": "ipython",
    "version": 3
   },
   "file_extension": ".py",
   "mimetype": "text/x-python",
   "name": "python",
   "nbconvert_exporter": "python",
   "pygments_lexer": "ipython3",
   "version": "3.10.9"
  }
 },
 "nbformat": 4,
 "nbformat_minor": 2
}
