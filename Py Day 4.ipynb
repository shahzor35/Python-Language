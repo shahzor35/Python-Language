{
 "cells": [
  {
   "cell_type": "code",
   "execution_count": null,
   "metadata": {
    "colab": {
     "base_uri": "https://localhost:8080/"
    },
    "executionInfo": {
     "elapsed": 1332,
     "status": "ok",
     "timestamp": 1729856645221,
     "user": {
      "displayName": "Shahzor Ahmed",
      "userId": "10102924712430795387"
     },
     "user_tz": -330
    },
    "id": "ZyMBgWj3dphQ",
    "outputId": "b5064780-c7f9-4ab0-ce96-b7562156f477"
   },
   "outputs": [
    {
     "name": "stdout",
     "output_type": "stream",
     "text": [
      "Hello\n"
     ]
    }
   ],
   "source": [
    "if True:\n",
    "  print(\"Hello\")"
   ]
  },
  {
   "cell_type": "code",
   "execution_count": null,
   "metadata": {
    "id": "WcZ-8QRafVDL"
   },
   "outputs": [],
   "source": [
    "if 1 == 3:\n",
    "  print(\"Hello\")"
   ]
  },
  {
   "cell_type": "code",
   "execution_count": null,
   "metadata": {
    "colab": {
     "base_uri": "https://localhost:8080/"
    },
    "executionInfo": {
     "elapsed": 514,
     "status": "ok",
     "timestamp": 1729856885136,
     "user": {
      "displayName": "Shahzor Ahmed",
      "userId": "10102924712430795387"
     },
     "user_tz": -330
    },
    "id": "RCX1ZD7jfsQI",
    "outputId": "d8d8a750-83c7-4051-af73-44992664a05a"
   },
   "outputs": [
    {
     "name": "stdout",
     "output_type": "stream",
     "text": [
      "Person is eligible to vote\n"
     ]
    }
   ],
   "source": [
    "Age = 20\n",
    "if Age > 18:\n",
    "  print(\"Person is eligible to vote\")\n",
    "else:\n",
    "  print(\"Person is not eligble to vote\")"
   ]
  },
  {
   "cell_type": "code",
   "execution_count": null,
   "metadata": {
    "colab": {
     "base_uri": "https://localhost:8080/"
    },
    "executionInfo": {
     "elapsed": 3981,
     "status": "ok",
     "timestamp": 1729856981486,
     "user": {
      "displayName": "Shahzor Ahmed",
      "userId": "10102924712430795387"
     },
     "user_tz": -330
    },
    "id": "IIzJNegcgUxv",
    "outputId": "c99a8d8d-53e1-494f-b915-c5b1de43f754"
   },
   "outputs": [
    {
     "name": "stdout",
     "output_type": "stream",
     "text": [
      "Enter person's age: 17\n",
      "Person is not eligble to vote\n"
     ]
    }
   ],
   "source": [
    "Age = int(input(\"Enter person's age: \"))\n",
    "if Age > 18:\n",
    "  print(\"Person is eligible to vote\")\n",
    "else:\n",
    "  print(\"Person is not eligble to vote\")"
   ]
  },
  {
   "cell_type": "code",
   "execution_count": null,
   "metadata": {
    "colab": {
     "base_uri": "https://localhost:8080/"
    },
    "executionInfo": {
     "elapsed": 523,
     "status": "ok",
     "timestamp": 1729857562717,
     "user": {
      "displayName": "Shahzor Ahmed",
      "userId": "10102924712430795387"
     },
     "user_tz": -330
    },
    "id": "18CzcXKSgnkT",
    "outputId": "3a2860e4-1197-4c76-a45f-5d3664ce890a"
   },
   "outputs": [
    {
     "name": "stdout",
     "output_type": "stream",
     "text": [
      "Number's are not equal\n"
     ]
    }
   ],
   "source": [
    "a = 1;\n",
    "b = 2;\n",
    "if(a == b):\n",
    "  print(\"Number's are equal\")\n",
    "else:\n",
    "  print(\"Number's are not equal\")"
   ]
  },
  {
   "cell_type": "code",
   "execution_count": null,
   "metadata": {
    "colab": {
     "base_uri": "https://localhost:8080/"
    },
    "executionInfo": {
     "elapsed": 10576,
     "status": "ok",
     "timestamp": 1729857755166,
     "user": {
      "displayName": "Shahzor Ahmed",
      "userId": "10102924712430795387"
     },
     "user_tz": -330
    },
    "id": "ln5jLk4li6MZ",
    "outputId": "16245a73-35c1-459a-9153-29134087f857"
   },
   "outputs": [
    {
     "name": "stdout",
     "output_type": "stream",
     "text": [
      "Enter length value :11.34\n",
      "Enter breadth value :11.34\n",
      "It's a square.\n"
     ]
    }
   ],
   "source": [
    "lenght = float(input(\"Enter length value :\"))\n",
    "breadth = float(input(\"Enter breadth value :\"))\n",
    "if lenght == breadth:\n",
    "  print(\"It's a square.\")\n",
    "else:\n",
    "  print(\"It's not a square\")"
   ]
  },
  {
   "cell_type": "code",
   "execution_count": null,
   "metadata": {
    "colab": {
     "base_uri": "https://localhost:8080/"
    },
    "executionInfo": {
     "elapsed": 521,
     "status": "ok",
     "timestamp": 1729858002489,
     "user": {
      "displayName": "Shahzor Ahmed",
      "userId": "10102924712430795387"
     },
     "user_tz": -330
    },
    "id": "QixMWF8WjdtO",
    "outputId": "d8b041d9-2428-4b45-be6c-bd5915a4bdea"
   },
   "outputs": [
    {
     "name": "stdout",
     "output_type": "stream",
     "text": [
      "hello\n"
     ]
    }
   ],
   "source": [
    "if True and True:\n",
    "  print(\"hello\")"
   ]
  },
  {
   "cell_type": "code",
   "execution_count": null,
   "metadata": {
    "id": "ia44pBTDklk7"
   },
   "outputs": [],
   "source": [
    "if True and False:\n",
    "  print(\"hello\")"
   ]
  },
  {
   "cell_type": "code",
   "execution_count": null,
   "metadata": {
    "colab": {
     "base_uri": "https://localhost:8080/"
    },
    "executionInfo": {
     "elapsed": 498,
     "status": "ok",
     "timestamp": 1729858159596,
     "user": {
      "displayName": "Shahzor Ahmed",
      "userId": "10102924712430795387"
     },
     "user_tz": -330
    },
    "id": "6YF97MEfkotL",
    "outputId": "69d31453-1a0b-4f71-ab71-64675f5a9e31"
   },
   "outputs": [
    {
     "name": "stdout",
     "output_type": "stream",
     "text": [
      "Hello\n"
     ]
    }
   ],
   "source": [
    "if 1 < 3 and 2 == 2:\n",
    "  print(\"Hello\")"
   ]
  },
  {
   "cell_type": "code",
   "execution_count": null,
   "metadata": {
    "id": "AW8TbpeWlLsZ"
   },
   "outputs": [],
   "source": [
    "if 1 < 3 and 2 == 2 and 3 < 2:\n",
    "  print(\"Hello\")"
   ]
  },
  {
   "cell_type": "code",
   "execution_count": null,
   "metadata": {
    "id": "hFWB5-z1lQwf"
   },
   "outputs": [],
   "source": [
    "a = 20;\n",
    "b = 30;\n",
    "c = 40;\n",
    "\n",
    "if(a>b and a>c):\n",
    "  print(\"a is the greatest\")"
   ]
  },
  {
   "cell_type": "code",
   "execution_count": null,
   "metadata": {
    "id": "9rtwQbohmBO2"
   },
   "outputs": [],
   "source": [
    "a = 35;\n",
    "b = 30;\n",
    "c = 40;\n",
    "\n",
    "if(a>b and a>c):\n",
    "  print(\"a is the greatest\")"
   ]
  },
  {
   "cell_type": "code",
   "execution_count": null,
   "metadata": {
    "colab": {
     "base_uri": "https://localhost:8080/"
    },
    "executionInfo": {
     "elapsed": 622,
     "status": "ok",
     "timestamp": 1729858675082,
     "user": {
      "displayName": "Shahzor Ahmed",
      "userId": "10102924712430795387"
     },
     "user_tz": -330
    },
    "id": "u31KNJwpmIfk",
    "outputId": "c94c4318-6da0-49dd-d8fb-21200f185c4d"
   },
   "outputs": [
    {
     "name": "stdout",
     "output_type": "stream",
     "text": [
      "a is the greatest\n"
     ]
    }
   ],
   "source": [
    "a = 50;\n",
    "b = 30;\n",
    "c = 40;\n",
    "\n",
    "if(a>b and a>c):\n",
    "  print(\"a is the greatest\")"
   ]
  },
  {
   "cell_type": "code",
   "execution_count": null,
   "metadata": {
    "colab": {
     "base_uri": "https://localhost:8080/"
    },
    "executionInfo": {
     "elapsed": 502,
     "status": "ok",
     "timestamp": 1729858952845,
     "user": {
      "displayName": "Shahzor Ahmed",
      "userId": "10102924712430795387"
     },
     "user_tz": -330
    },
    "id": "s-eL-YLdmLuE",
    "outputId": "bd764378-f829-422a-9d89-cba631d5a19b"
   },
   "outputs": [
    {
     "name": "stdout",
     "output_type": "stream",
     "text": [
      "b is the greatest\n"
     ]
    }
   ],
   "source": [
    "a = 50;\n",
    "b = 300;\n",
    "c = 40;\n",
    "if(a>b and a>c):\n",
    "  print(\"a is the greatest\")\n",
    "if(b>a and b>c):                    # Waste of time and resourses so use else\n",
    "  print(\"b is the greatest\")\n",
    "if(c>a and c>b):\n",
    "  print(\"c is the greatest\")"
   ]
  },
  {
   "cell_type": "code",
   "execution_count": null,
   "metadata": {
    "colab": {
     "base_uri": "https://localhost:8080/"
    },
    "executionInfo": {
     "elapsed": 7,
     "status": "ok",
     "timestamp": 1729859060851,
     "user": {
      "displayName": "Shahzor Ahmed",
      "userId": "10102924712430795387"
     },
     "user_tz": -330
    },
    "id": "v_sERz5anNYl",
    "outputId": "099cbfec-82de-4319-8c7e-157233cfaef9"
   },
   "outputs": [
    {
     "name": "stdout",
     "output_type": "stream",
     "text": [
      "c is the greatest\n"
     ]
    }
   ],
   "source": [
    "a = 30;\n",
    "b = 50;\n",
    "c = 60;\n",
    "if(a>b and a>c):\n",
    "  print(\"a is the greatest\")   # If one is true then rest will not be executed\n",
    "elif(b>a and b>c):\n",
    "  print(\"b is the greatest\")\n",
    "elif(c>a and c>b):\n",
    "  print(\"c is the greatest\")"
   ]
  },
  {
   "cell_type": "code",
   "execution_count": null,
   "metadata": {
    "colab": {
     "base_uri": "https://localhost:8080/"
    },
    "executionInfo": {
     "elapsed": 6,
     "status": "ok",
     "timestamp": 1729859281273,
     "user": {
      "displayName": "Shahzor Ahmed",
      "userId": "10102924712430795387"
     },
     "user_tz": -330
    },
    "id": "TWFr8yVLoPqH",
    "outputId": "f3b3c740-44fc-4c11-aca5-4521679101a3"
   },
   "outputs": [
    {
     "name": "stdout",
     "output_type": "stream",
     "text": [
      "c is the greatest\n"
     ]
    }
   ],
   "source": [
    "a = 30;\n",
    "b = 50;\n",
    "c = 60;\n",
    "if(a>b and a>c):\n",
    "  print(\"a is the greatest\")\n",
    "elif(b>a and b>c):\n",
    "  print(\"b is the greatest\")\n",
    "else:\n",
    "  print(\"c is the greatest\")"
   ]
  },
  {
   "cell_type": "code",
   "execution_count": null,
   "metadata": {
    "colab": {
     "base_uri": "https://localhost:8080/"
    },
    "executionInfo": {
     "elapsed": 2769,
     "status": "ok",
     "timestamp": 1729860337835,
     "user": {
      "displayName": "Shahzor Ahmed",
      "userId": "10102924712430795387"
     },
     "user_tz": -330
    },
    "id": "9MskbRmBpcIZ",
    "outputId": "af0a1799-e3a7-4423-df53-115b38a11b0b"
   },
   "outputs": [
    {
     "name": "stdout",
     "output_type": "stream",
     "text": [
      "Enter your age value: 78\n",
      "You are a senior citizen\n"
     ]
    }
   ],
   "source": [
    "Age = int(input(\"Enter your age value: \"))\n",
    "if Age <= 17:\n",
    "  print(\"You are a child.\")\n",
    "elif Age > 17 and Age <= 65:\n",
    "  print(\"You are an adult.\")\n",
    "else:\n",
    "  print(\"You are a senior citizen\")"
   ]
  },
  {
   "cell_type": "code",
   "execution_count": null,
   "metadata": {
    "colab": {
     "base_uri": "https://localhost:8080/"
    },
    "executionInfo": {
     "elapsed": 13400,
     "status": "ok",
     "timestamp": 1729860886312,
     "user": {
      "displayName": "Shahzor Ahmed",
      "userId": "10102924712430795387"
     },
     "user_tz": -330
    },
    "id": "qi_ijxZTtDXk",
    "outputId": "cc2c467c-1ca5-4337-b46c-34a73a8ea227"
   },
   "outputs": [
    {
     "name": "stdout",
     "output_type": "stream",
     "text": [
      "Enter the temperature value: 31\n",
      "It's a hot day!\n"
     ]
    }
   ],
   "source": [
    "temperature = int(input(\"Enter the temperature value: \"))\n",
    "if temperature < 10:\n",
    "  print(\"It's a cold day.\")\n",
    "elif temperature >= 10 and temperature <= 20:\n",
    "  print(\"It's a bit cold day.\")\n",
    "elif temperature > 20 and temperature <=30:\n",
    "  print(\"It's a nice day.\")\n",
    "else:\n",
    "  print(\"It's a hot day!\")"
   ]
  },
  {
   "cell_type": "code",
   "execution_count": 31,
   "metadata": {
    "colab": {
     "base_uri": "https://localhost:8080/"
    },
    "executionInfo": {
     "elapsed": 4608,
     "status": "ok",
     "timestamp": 1729920594085,
     "user": {
      "displayName": "Shahzor Ahmed",
      "userId": "10102924712430795387"
     },
     "user_tz": -330
    },
    "id": "zecImCLpvg0n",
    "outputId": "98786369-1a24-48e2-c401-8ed1fc0be565"
   },
   "outputs": [
    {
     "name": "stdout",
     "output_type": "stream",
     "text": [
      "Enter student marks: 78\n",
      "Student got : A Grade.\n"
     ]
    }
   ],
   "source": [
    "# Student's grade based on marks\n",
    "student_marks = int(input(\"Enter student marks: \"))\n",
    "if student_marks > 85:\n",
    "  print(\"Student got A+ Grade.\")\n",
    "elif student_marks > 70 and student_marks <=85:\n",
    "  print(\"Student got : A Grade.\")\n",
    "elif student_marks > 60 and student_marks <= 70:\n",
    "  print(\"Student got : B Grade.\")\n",
    "elif student_marks > 50 and student_marks <=60:\n",
    "  print(\"Student got : C Grade.\")\n",
    "elif student_marks >= 40 and student_marks <=50:\n",
    "  print(\"Student got : D Grade.\")\n",
    "else:\n",
    "  print(\"Student Failed.\")"
   ]
  }
 ],
 "metadata": {
  "colab": {
   "authorship_tag": "ABX9TyOQCmSlhaDgQ6YWpza5X4Aa",
   "provenance": []
  },
  "kernelspec": {
   "display_name": "Python 3 (ipykernel)",
   "language": "python",
   "name": "python3"
  },
  "language_info": {
   "codemirror_mode": {
    "name": "ipython",
    "version": 3
   },
   "file_extension": ".py",
   "mimetype": "text/x-python",
   "name": "python",
   "nbconvert_exporter": "python",
   "pygments_lexer": "ipython3",
   "version": "3.10.9"
  }
 },
 "nbformat": 4,
 "nbformat_minor": 4
}
