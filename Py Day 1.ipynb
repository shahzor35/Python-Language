{
 "cells": [
  {
   "cell_type": "code",
   "execution_count": 1,
   "metadata": {
    "colab": {
     "base_uri": "https://localhost:8080/"
    },
    "executionInfo": {
     "elapsed": 1621,
     "status": "ok",
     "timestamp": 1729511827138,
     "user": {
      "displayName": "Shahzor Ahmed",
      "userId": "10102924712430795387"
     },
     "user_tz": -330
    },
    "id": "urLRggfs3bjy",
    "outputId": "645a6a14-ff26-498d-921c-3cbb96a3e970"
   },
   "outputs": [
    {
     "name": "stdout",
     "output_type": "stream",
     "text": [
      "Hello World\n"
     ]
    }
   ],
   "source": [
    "print(\"Hello World\")"
   ]
  },
  {
   "cell_type": "code",
   "execution_count": 2,
   "metadata": {
    "colab": {
     "base_uri": "https://localhost:8080/"
    },
    "executionInfo": {
     "elapsed": 5,
     "status": "ok",
     "timestamp": 1729512132214,
     "user": {
      "displayName": "Shahzor Ahmed",
      "userId": "10102924712430795387"
     },
     "user_tz": -330
    },
    "id": "bd-G6G-Q7-RH",
    "outputId": "04443e5b-1cda-46b9-f792-605e68cc0fe5"
   },
   "outputs": [
    {
     "name": "stdout",
     "output_type": "stream",
     "text": [
      "50\n"
     ]
    }
   ],
   "source": [
    "num1 = 20;\n",
    "num2 = 30;\n",
    "sum = num1 + num2;\n",
    "print(sum)"
   ]
  },
  {
   "cell_type": "code",
   "execution_count": 3,
   "metadata": {
    "colab": {
     "base_uri": "https://localhost:8080/"
    },
    "executionInfo": {
     "elapsed": 534,
     "status": "ok",
     "timestamp": 1729512383788,
     "user": {
      "displayName": "Shahzor Ahmed",
      "userId": "10102924712430795387"
     },
     "user_tz": -330
    },
    "id": "_wdClSdG9Mlo",
    "outputId": "884af3a2-e95d-4000-abb2-d3b6d90c7041"
   },
   "outputs": [
    {
     "name": "stdout",
     "output_type": "stream",
     "text": [
      "Shahzor\n"
     ]
    }
   ],
   "source": [
    "Name = \"Shahzor\"\n",
    "print(Name)"
   ]
  },
  {
   "cell_type": "code",
   "execution_count": 4,
   "metadata": {
    "colab": {
     "base_uri": "https://localhost:8080/"
    },
    "executionInfo": {
     "elapsed": 530,
     "status": "ok",
     "timestamp": 1729512770747,
     "user": {
      "displayName": "Shahzor Ahmed",
      "userId": "10102924712430795387"
     },
     "user_tz": -330
    },
    "id": "uYyUQEe4-ICu",
    "outputId": "836a6669-5911-46a9-8e07-2cde8593ff64"
   },
   "outputs": [
    {
     "name": "stdout",
     "output_type": "stream",
     "text": [
      "Shahzor Ahmed\n",
      "Nizamabad\n"
     ]
    }
   ],
   "source": [
    "Name = \"Shahzor Ahmed\"\n",
    "Native_Place = \"Nizamabad\"\n",
    "print(Name);\n",
    "print(Native_Place);"
   ]
  },
  {
   "cell_type": "code",
   "execution_count": 5,
   "metadata": {
    "colab": {
     "base_uri": "https://localhost:8080/"
    },
    "executionInfo": {
     "elapsed": 553,
     "status": "ok",
     "timestamp": 1729512976903,
     "user": {
      "displayName": "Shahzor Ahmed",
      "userId": "10102924712430795387"
     },
     "user_tz": -330
    },
    "id": "KhRgBsm9_fqE",
    "outputId": "5686bab6-af03-4049-db94-4deb5d6a1b6e"
   },
   "outputs": [
    {
     "name": "stdout",
     "output_type": "stream",
     "text": [
      "My name is  Shahzor Ahmed\n",
      "Iam from  Nizamabad\n"
     ]
    }
   ],
   "source": [
    "Name = \"Shahzor Ahmed\";\n",
    "Native_Place = \"Nizamabad\";\n",
    "print(\"My name is \", Name);\n",
    "print(\"Iam from \", Native_Place);"
   ]
  },
  {
   "cell_type": "code",
   "execution_count": null,
   "metadata": {
    "id": "bfL9Yr7gAQjI"
   },
   "outputs": [],
   "source": []
  }
 ],
 "metadata": {
  "colab": {
   "authorship_tag": "ABX9TyPx5Kb8SssL+zvRxYp4JYDT",
   "provenance": []
  },
  "kernelspec": {
   "display_name": "Python 3",
   "language": "python",
   "name": "python3"
  },
  "language_info": {
   "codemirror_mode": {
    "name": "ipython",
    "version": 3
   },
   "file_extension": ".py",
   "mimetype": "text/x-python",
   "name": "python",
   "nbconvert_exporter": "python",
   "pygments_lexer": "ipython3",
   "version": "3.13.0"
  }
 },
 "nbformat": 4,
 "nbformat_minor": 4
}
