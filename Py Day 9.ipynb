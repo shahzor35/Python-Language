{
 "cells": [
  {
   "cell_type": "code",
   "execution_count": 1,
   "metadata": {},
   "outputs": [
    {
     "name": "stdout",
     "output_type": "stream",
     "text": [
      "5050\n"
     ]
    }
   ],
   "source": [
    "# Sum of all numbers from 1 to 100\n",
    "num = 1\n",
    "sum = 0\n",
    "while num <= 100:\n",
    "    sum = sum + num\n",
    "    num += 1\n",
    "print(sum)"
   ]
  },
  {
   "cell_type": "code",
   "execution_count": 2,
   "metadata": {},
   "outputs": [
    {
     "name": "stdout",
     "output_type": "stream",
     "text": [
      "2\n",
      "4\n",
      "6\n",
      "8\n",
      "10\n"
     ]
    }
   ],
   "source": [
    "# print even number\n",
    "num = 0\n",
    "while num <=10:\n",
    "    num += 1\n",
    "    if num % 2 == 0:\n",
    "        print(num)"
   ]
  },
  {
   "cell_type": "code",
   "execution_count": 3,
   "metadata": {},
   "outputs": [
    {
     "name": "stdout",
     "output_type": "stream",
     "text": [
      "Number of vowels in string:  10\n"
     ]
    }
   ],
   "source": [
    "# count vowels in a string \"Today is a beautiful day.\"\n",
    "string = \"Today is a beautiful day.\"\n",
    "vowels = [\"a\",\"e\",\"i\",\"o\",\"u\"]\n",
    "vowel_count = 0\n",
    "for char in string:\n",
    "    if char in vowels:\n",
    "        vowel_count = vowel_count + 1\n",
    "print(\"Number of vowels in string: \", vowel_count)"
   ]
  },
  {
   "cell_type": "code",
   "execution_count": 4,
   "metadata": {},
   "outputs": [
    {
     "name": "stdout",
     "output_type": "stream",
     "text": [
      "150\n"
     ]
    }
   ],
   "source": [
    "# Sum of list elements [10,20,30,40,50]\n",
    "my_list = [10,20,30,40,50]\n",
    "sum = 0\n",
    "for item in my_list:\n",
    "    sum = sum + item\n",
    "print(sum)"
   ]
  },
  {
   "cell_type": "code",
   "execution_count": 5,
   "metadata": {},
   "outputs": [
    {
     "name": "stdout",
     "output_type": "stream",
     "text": [
      "dlrow olleh\n"
     ]
    }
   ],
   "source": [
    "# Reverse a string \"hello world\"\n",
    "my_string = \"hello world\"\n",
    "print(my_string[::-1])"
   ]
  },
  {
   "cell_type": "code",
   "execution_count": 6,
   "metadata": {},
   "outputs": [
    {
     "name": "stdout",
     "output_type": "stream",
     "text": [
      "Reserved string:  dlrow olleh\n"
     ]
    }
   ],
   "source": [
    "# Reverse a string \"hello world\" with out using any method\n",
    "my_string = \"hello world\"\n",
    "reserved_string = \"\"\n",
    "index = len(my_string) - 1\n",
    "while index >= 0:\n",
    "    reserved_string = reserved_string + my_string[index]\n",
    "    index = index - 1\n",
    "print(\"Reserved string: \", reserved_string)"
   ]
  }
 ],
 "metadata": {
  "kernelspec": {
   "display_name": "your_environment_name",
   "language": "python",
   "name": "your_environment_name"
  },
  "language_info": {
   "codemirror_mode": {
    "name": "ipython",
    "version": 3
   },
   "file_extension": ".py",
   "mimetype": "text/x-python",
   "name": "python",
   "nbconvert_exporter": "python",
   "pygments_lexer": "ipython3",
   "version": "3.10.9"
  }
 },
 "nbformat": 4,
 "nbformat_minor": 2
}
