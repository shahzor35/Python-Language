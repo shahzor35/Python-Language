{
 "cells": [
  {
   "cell_type": "code",
   "execution_count": 5,
   "id": "282f1c18-f73f-4126-b0d7-71aae32d2e7b",
   "metadata": {},
   "outputs": [
    {
     "name": "stdout",
     "output_type": "stream",
     "text": [
      "HELLO , WORLD!\n"
     ]
    }
   ],
   "source": [
    "text = \"Hello , World!\"\n",
    "upper_text = text.upper()\n",
    "print(upper_text)"
   ]
  },
  {
   "cell_type": "code",
   "execution_count": 6,
   "id": "bb5f4cef-ff6c-4af6-8773-aa31a5c39a60",
   "metadata": {},
   "outputs": [
    {
     "name": "stdout",
     "output_type": "stream",
     "text": [
      "5\n"
     ]
    }
   ],
   "source": [
    "text = \"Hello\";\n",
    "print(len(text))"
   ]
  },
  {
   "cell_type": "code",
   "execution_count": 9,
   "id": "7225ce29-7973-46b3-9bdf-0afba76525e9",
   "metadata": {},
   "outputs": [
    {
     "name": "stdout",
     "output_type": "stream",
     "text": [
      "True\n",
      "False\n"
     ]
    }
   ],
   "source": [
    "text = \"Hello, World!\"\n",
    "res = \"Hello\" in text\n",
    "print(res)\n",
    "res = \"python\" in text\n",
    "print(res)"
   ]
  },
  {
   "cell_type": "code",
   "execution_count": 10,
   "id": "93fac823-64f3-436f-8291-66dc4883a08d",
   "metadata": {},
   "outputs": [
    {
     "name": "stdout",
     "output_type": "stream",
     "text": [
      "True\n"
     ]
    }
   ],
   "source": [
    "text = \"Hello, World!\"\n",
    "res = \"Python\" not in text\n",
    "print(res)"
   ]
  },
  {
   "cell_type": "code",
   "execution_count": 11,
   "id": "5e472fc7-b34b-49cf-abfe-df6567d52f15",
   "metadata": {},
   "outputs": [
    {
     "name": "stdout",
     "output_type": "stream",
     "text": [
      "True\n"
     ]
    }
   ],
   "source": [
    "text = \"Hello, World!\"\n",
    "res = \"hello\" not in text\n",
    "print(res)"
   ]
  },
  {
   "cell_type": "code",
   "execution_count": 14,
   "id": "df6225a0-cf3d-483a-81c5-bcf1542cbdda",
   "metadata": {},
   "outputs": [
    {
     "name": "stdout",
     "output_type": "stream",
     "text": [
      "7\n",
      "-1\n"
     ]
    }
   ],
   "source": [
    "text = \"Hello, world!\"\n",
    "res = text.find(\"world\")\n",
    "print(res)\n",
    "res = text.find(\"python\")\n",
    "print(res)  # -1 means it did not exist"
   ]
  },
  {
   "cell_type": "code",
   "execution_count": 15,
   "id": "fd64d7f0-7bca-46c6-b24e-899d25232c71",
   "metadata": {},
   "outputs": [
    {
     "name": "stdout",
     "output_type": "stream",
     "text": [
      "4\n"
     ]
    }
   ],
   "source": [
    "text = \"Hello, world!\"\n",
    "res = text.find(\"o\")\n",
    "print(res)"
   ]
  },
  {
   "cell_type": "code",
   "execution_count": 16,
   "id": "13031ee5-d65c-41db-ace0-27d51328b06d",
   "metadata": {},
   "outputs": [
    {
     "name": "stdout",
     "output_type": "stream",
     "text": [
      "8\n"
     ]
    }
   ],
   "source": [
    "text = \"Hello, world!\"\n",
    "res = text.find(\"o\", 6) # search o from the position 6\n",
    "print(res)"
   ]
  },
  {
   "cell_type": "code",
   "execution_count": 17,
   "id": "c556cbf7-f95c-497a-8695-5d6eb94a7ac0",
   "metadata": {},
   "outputs": [
    {
     "name": "stdout",
     "output_type": "stream",
     "text": [
      "-1\n"
     ]
    }
   ],
   "source": [
    "text = \"Hello, world!\"\n",
    "res = text.find(\"o\", 9) # search o from the position 9\n",
    "print(res)"
   ]
  },
  {
   "cell_type": "code",
   "execution_count": 19,
   "id": "e892c657-4c9c-4b06-98c7-2c3ae3219169",
   "metadata": {},
   "outputs": [
    {
     "name": "stdout",
     "output_type": "stream",
     "text": [
      "-1\n"
     ]
    }
   ],
   "source": [
    "text = \"Hello, world!\"\n",
    "res = text.find(\"o\", 0,3) # search o from the position 0 to 3\n",
    "print(res)"
   ]
  },
  {
   "cell_type": "code",
   "execution_count": 20,
   "id": "5a7b38cd-9b96-453a-a575-f9fddcf8a1ba",
   "metadata": {},
   "outputs": [
    {
     "name": "stdout",
     "output_type": "stream",
     "text": [
      "3\n"
     ]
    }
   ],
   "source": [
    "text = \"Hello, world!\"\n",
    "res = text.count(\"l\")\n",
    "print(res)"
   ]
  },
  {
   "cell_type": "code",
   "execution_count": 21,
   "id": "ec5b9304-1672-4fd2-8761-27844fab4902",
   "metadata": {},
   "outputs": [
    {
     "name": "stdout",
     "output_type": "stream",
     "text": [
      "2\n"
     ]
    }
   ],
   "source": [
    "text = \"Hello, world!\"\n",
    "res = text.count(\"o\")\n",
    "print(res)"
   ]
  },
  {
   "cell_type": "code",
   "execution_count": 22,
   "id": "ed635612-c0ff-407f-9e66-faf6be44cd81",
   "metadata": {},
   "outputs": [
    {
     "name": "stdout",
     "output_type": "stream",
     "text": [
      "0\n"
     ]
    }
   ],
   "source": [
    "text = \"Hello, world!\"\n",
    "res = text.count(\"z\")\n",
    "print(res)"
   ]
  },
  {
   "cell_type": "code",
   "execution_count": 24,
   "id": "9c9ca7e4-e2ad-49fb-a80d-8a48612b5be5",
   "metadata": {},
   "outputs": [
    {
     "name": "stdout",
     "output_type": "stream",
     "text": [
      "1\n"
     ]
    }
   ],
   "source": [
    "text = \"Hello, world!\"\n",
    "res = text.count(\"l\", 6,11) # count l from position 6 to 11\n",
    "print(res)"
   ]
  },
  {
   "cell_type": "code",
   "execution_count": 37,
   "id": "5b8c836f-99ec-4063-8203-7a3380bc0f92",
   "metadata": {},
   "outputs": [
    {
     "name": "stdin",
     "output_type": "stream",
     "text": [
      "Enter any alphabet:  d\n"
     ]
    },
    {
     "name": "stdout",
     "output_type": "stream",
     "text": [
      "Entered alphabet is a consonant\n"
     ]
    }
   ],
   "source": [
    "entered_Alphabet = input(\"Enter any alphabet: \").lower()\n",
    "vowels = [\"a\",\"e\",\"i\",\"o\",\"u\"]\n",
    "if entered_Alphabet in vowels:\n",
    "    print(\"Entered alphabet is a vowel.\")\n",
    "else:\n",
    "    print(\"Entered alphabet is a consonant\")"
   ]
  },
  {
   "cell_type": "code",
   "execution_count": 49,
   "id": "5437e48a-edcf-4146-ac8e-361b9a03c7ab",
   "metadata": {},
   "outputs": [
    {
     "name": "stdin",
     "output_type": "stream",
     "text": [
      "Enter the 1 side of the traingle:  10\n",
      "Enter the 2 side of the traingle:  20\n",
      "Enter the 3 side of the traingle:  30\n"
     ]
    },
    {
     "name": "stdout",
     "output_type": "stream",
     "text": [
      "Its a Scalene triangle\n"
     ]
    }
   ],
   "source": [
    "side_1 = int(input(\"Enter the 1 side of the traingle: \"))\n",
    "side_2 = int(input(\"Enter the 2 side of the traingle: \"))\n",
    "side_3 = int(input(\"Enter the 3 side of the traingle: \"))\n",
    "if side_1 == side_2 == side_3:\n",
    "    print(\"Its a Equilateral triangle.\")\n",
    "elif side_1 == side_3  or side_2 == side_1 or side_3 == side_2:\n",
    "    print(\"Its a Isosceles triangle.\")\n",
    "else:\n",
    "    print(\"Its a Scalene triangle\")"
   ]
  },
  {
   "cell_type": "code",
   "execution_count": 54,
   "id": "1ed86923-4cac-4725-ac75-9be3aa6c605e",
   "metadata": {},
   "outputs": [
    {
     "name": "stdin",
     "output_type": "stream",
     "text": [
      "Enter the 1 side of the traingle:  10\n",
      "Enter the 2 side of the traingle:  20\n",
      "Enter the 3 side of the traingle:  20\n"
     ]
    },
    {
     "name": "stdout",
     "output_type": "stream",
     "text": [
      "Its a different traingle\n"
     ]
    }
   ],
   "source": [
    "side_1 = int(input(\"Enter the 1 side of the traingle: \"))\n",
    "side_2 = int(input(\"Enter the 2 side of the traingle: \"))\n",
    "side_3 = int(input(\"Enter the 3 side of the traingle: \"))\n",
    "if side_1 != side_2 and side_2 != side_3 and side_3 != side_1:\n",
    "    print(\"Its a Scalene triangle\")\n",
    "else:\n",
    "    print(\"Its a different traingle\")"
   ]
  },
  {
   "cell_type": "code",
   "execution_count": 57,
   "id": "4d55077a-c5d3-41f6-bc1c-85119e9cbf31",
   "metadata": {},
   "outputs": [
    {
     "name": "stdout",
     "output_type": "stream",
     "text": [
      "[10, 20, 30, 40, 'abc', True, 20.36]\n",
      "40\n"
     ]
    }
   ],
   "source": [
    "my_list = [10,20,30,40,\"abc\", True, 20.36]\n",
    "print(my_list)\n",
    "print(my_list[3])"
   ]
  },
  {
   "cell_type": "code",
   "execution_count": 68,
   "id": "0fde0eb7-d4d3-4648-b2e6-0747c5e1df00",
   "metadata": {},
   "outputs": [
    {
     "name": "stdout",
     "output_type": "stream",
     "text": [
      "10\n"
     ]
    }
   ],
   "source": [
    "# Premetive data types\n",
    "a = 10;\n",
    "b = a;\n",
    "a = 20;\n",
    "print(b)"
   ]
  },
  {
   "cell_type": "code",
   "execution_count": 69,
   "id": "5a4027fb-2698-498e-a2d5-8e14282d08f7",
   "metadata": {},
   "outputs": [
    {
     "name": "stdout",
     "output_type": "stream",
     "text": [
      "[10, 20, 30, 40]\n",
      "[5, 20, 30, 40]\n"
     ]
    }
   ],
   "source": [
    "# Non premetive data types\n",
    "list_1 = [10,20,30,40]\n",
    "print(list_1)\n",
    "list_1[0] = 5;\n",
    "print(list_1)"
   ]
  },
  {
   "cell_type": "code",
   "execution_count": 67,
   "id": "6fe8f89c-495e-48b9-937e-e4e7dba51cfd",
   "metadata": {},
   "outputs": [
    {
     "name": "stdout",
     "output_type": "stream",
     "text": [
      "[5, 20, 30, 40]\n"
     ]
    }
   ],
   "source": [
    "list_1 = [10,20,30,40]\n",
    "list_2 = list_1\n",
    "list_1[0] = 5;\n",
    "print(list_2)"
   ]
  },
  {
   "cell_type": "code",
   "execution_count": null,
   "id": "4a25b1ab-b6d8-438f-8bd7-c4944e50beff",
   "metadata": {},
   "outputs": [],
   "source": []
  }
 ],
 "metadata": {
  "kernelspec": {
   "display_name": "Python 3 (ipykernel)",
   "language": "python",
   "name": "python3"
  },
  "language_info": {
   "codemirror_mode": {
    "name": "ipython",
    "version": 3
   },
   "file_extension": ".py",
   "mimetype": "text/x-python",
   "name": "python",
   "nbconvert_exporter": "python",
   "pygments_lexer": "ipython3",
   "version": "3.10.9"
  }
 },
 "nbformat": 4,
 "nbformat_minor": 5
}
