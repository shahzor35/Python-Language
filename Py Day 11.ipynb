{
 "cells": [
  {
   "cell_type": "markdown",
   "metadata": {},
   "source": [
    "Funtions"
   ]
  },
  {
   "cell_type": "code",
   "execution_count": 3,
   "metadata": {},
   "outputs": [
    {
     "name": "stdout",
     "output_type": "stream",
     "text": [
      "30\n",
      "240\n"
     ]
    }
   ],
   "source": [
    "num1 = 10;\n",
    "num2 = 20;\n",
    "print(num1 + num2)\n",
    "num3 = 10;\n",
    "num4 = 230;\n",
    "print(num3 + num4)"
   ]
  },
  {
   "cell_type": "code",
   "execution_count": 11,
   "metadata": {},
   "outputs": [
    {
     "name": "stdout",
     "output_type": "stream",
     "text": [
      "23 is printed from the function.\n"
     ]
    }
   ],
   "source": [
    "def samplefn(value):\n",
    "    print(f\"{value} is printed from the function.\")\n",
    "user_input = int(input(\"Give your value\"))\n",
    "samplefn(user_input)"
   ]
  },
  {
   "cell_type": "code",
   "execution_count": 14,
   "metadata": {},
   "outputs": [
    {
     "name": "stdout",
     "output_type": "stream",
     "text": [
      "25\n",
      "3\n",
      "55\n"
     ]
    }
   ],
   "source": [
    "def addition(num1, num2):  # function is created num1 and num2 are paraments\n",
    "    print(num1 + num2)\n",
    "addition(10,15)  # function calling 10,5 are the argument\n",
    "addition(1,2)\n",
    "addition(15,40)"
   ]
  },
  {
   "cell_type": "code",
   "execution_count": 15,
   "metadata": {},
   "outputs": [
    {
     "name": "stdout",
     "output_type": "stream",
     "text": [
      "Full name is :  John wick\n"
     ]
    }
   ],
   "source": [
    "firstName = \"John\"\n",
    "lastName = \"wick\"\n",
    "print(\"Full name is : \",firstName + \" \" + lastName)"
   ]
  },
  {
   "cell_type": "code",
   "execution_count": 16,
   "metadata": {},
   "outputs": [
    {
     "name": "stdout",
     "output_type": "stream",
     "text": [
      "Full name is John wick\n"
     ]
    }
   ],
   "source": [
    "firstName = \"John\"\n",
    "lastName = \"wick\"\n",
    "print(f\"Full name is {firstName} {lastName}\")"
   ]
  },
  {
   "cell_type": "code",
   "execution_count": 18,
   "metadata": {},
   "outputs": [
    {
     "name": "stdout",
     "output_type": "stream",
     "text": [
      "Full name is Shahzor Ahmed\n"
     ]
    }
   ],
   "source": [
    "def printFullName(firstName, lastName):\n",
    "    print(f\"Full name is {firstName} {lastName}\")\n",
    "printFullName(\"Shahzor\", \"Ahmed\")"
   ]
  },
  {
   "cell_type": "code",
   "execution_count": 21,
   "metadata": {},
   "outputs": [
    {
     "name": "stdout",
     "output_type": "stream",
     "text": [
      "None\n"
     ]
    }
   ],
   "source": [
    "def add(num1, num2):\n",
    "    result =  num1 + num2\n",
    "print(add(15,10))"
   ]
  },
  {
   "cell_type": "code",
   "execution_count": 24,
   "metadata": {},
   "outputs": [
    {
     "name": "stdout",
     "output_type": "stream",
     "text": [
      "25\n"
     ]
    }
   ],
   "source": [
    "def add(num1, num2):\n",
    "    result =  num1 + num2\n",
    "    return result\n",
    "print(add(15,10))"
   ]
  },
  {
   "cell_type": "code",
   "execution_count": 25,
   "metadata": {},
   "outputs": [
    {
     "name": "stdout",
     "output_type": "stream",
     "text": [
      "25\n"
     ]
    }
   ],
   "source": [
    "def add(num1, num2):\n",
    "    sum =  num1 + num2\n",
    "    return sum\n",
    "result = add(15,10)\n",
    "print(result)"
   ]
  },
  {
   "cell_type": "code",
   "execution_count": 27,
   "metadata": {},
   "outputs": [
    {
     "name": "stdout",
     "output_type": "stream",
     "text": [
      "This code will be executed.\n",
      "25\n"
     ]
    }
   ],
   "source": [
    "def add(num1, num2):\n",
    "    sum =  num1 + num2\n",
    "    print(\"This code will be executed.\")\n",
    "    return sum\n",
    "    print(\"This code will not be executed.\")\n",
    "result = add(15,10)\n",
    "print(result)"
   ]
  },
  {
   "cell_type": "code",
   "execution_count": 28,
   "metadata": {},
   "outputs": [
    {
     "name": "stdout",
     "output_type": "stream",
     "text": [
      "15\n"
     ]
    }
   ],
   "source": [
    "def add_1(num1, num2 = 5): # num2 is a default parameter if nothing is passes then it will take that value\n",
    "    sum =  num1 + num2\n",
    "    return sum\n",
    "print(add_1(10))"
   ]
  },
  {
   "cell_type": "code",
   "execution_count": 29,
   "metadata": {},
   "outputs": [
    {
     "name": "stdout",
     "output_type": "stream",
     "text": [
      "12\n"
     ]
    }
   ],
   "source": [
    "def add_1(num1, num2 = 5): # num2 is a default parameter if nothing is passes then it will take that value\n",
    "    sum =  num1 + num2\n",
    "    return sum\n",
    "print(add_1(10,2))"
   ]
  },
  {
   "cell_type": "code",
   "execution_count": 32,
   "metadata": {},
   "outputs": [
    {
     "name": "stdout",
     "output_type": "stream",
     "text": [
      "1150\n",
      "110\n"
     ]
    }
   ],
   "source": [
    "def calculate_bill(price1, price2, price3):\n",
    "    bill = price1 + price2 + price3\n",
    "    return bill;\n",
    "cust_1_Bill = calculate_bill(200,350,600)\n",
    "print(cust_1_Bill)\n",
    "cust_2_Bill = calculate_bill(20,30,60)\n",
    "print(cust_2_Bill)"
   ]
  },
  {
   "cell_type": "code",
   "execution_count": 40,
   "metadata": {},
   "outputs": [
    {
     "name": "stdout",
     "output_type": "stream",
     "text": [
      "1150\n",
      "2665\n",
      "382\n"
     ]
    }
   ],
   "source": [
    "def calculate_bill_1(*args):\n",
    "    bill = 0\n",
    "    for item in args:\n",
    "        bill = bill + item\n",
    "    return bill\n",
    "cust_1_Bill = calculate_bill_1(200,350,600)\n",
    "print(cust_1_Bill)\n",
    "cust_2_Bill = calculate_bill_1(300, 380, 400, 360, 450, 650, 125)\n",
    "print(cust_2_Bill)\n",
    "cust_3_Bill = calculate_bill_1(370, 12)\n",
    "print(cust_3_Bill)"
   ]
  },
  {
   "cell_type": "markdown",
   "metadata": {},
   "source": [
    "Write a python program to input electricity unit charge and\n",
    "calculate the total electricity bill according to the given condition:\n",
    "For first 50 units Rs. 0.50/unit  0 - 50\n",
    "For next 100 units Rs. 0.75/unit  51 - 150\n",
    "For next 100 units Rs. 1.20/unit  151 - 250\n",
    "For unit above 250 Rs. 1.50/unit\n",
    "An additional surcharge of 20% is added to the bill."
   ]
  },
  {
   "cell_type": "code",
   "execution_count": 15,
   "metadata": {},
   "outputs": [
    {
     "name": "stdout",
     "output_type": "stream",
     "text": [
      "Your bill for units 160 including tax is : 134.4\n"
     ]
    }
   ],
   "source": [
    "def calculate_bill(units):\n",
    "    total_bill = 0\n",
    "    if(units <= 50):\n",
    "        total_bill = units * 0.50  # for first 50 units bill is 25 rps\n",
    "    elif(units >=51 and units <= 150):\n",
    "        remaning_units = units - 50\n",
    "        total_bill = 25 + (remaning_units * 0.75)  # for 150 units bill is 100\n",
    "    elif(units >= 151 and units <=250):\n",
    "        remaning_units = units - 150\n",
    "        total_bill = 100 + (remaning_units * 1.20) # for 220 units bill is 220\n",
    "    elif(units > 250):\n",
    "        remaning_units = units - 250\n",
    "        total_bill = 220 + (remaning_units * 1.50)\n",
    "    tax = total_bill * 0.20\n",
    "    total_bill = total_bill + tax\n",
    "    return total_bill\n",
    "user_input_units = int(input(\"Enter your electricity units for calculating bill: \"))\n",
    "result = calculate_bill(user_input_units)\n",
    "print(f\"Your bill for units {user_input_units} including tax is : {result}\")"
   ]
  }
 ],
 "metadata": {
  "kernelspec": {
   "display_name": "your_environment_name",
   "language": "python",
   "name": "your_environment_name"
  },
  "language_info": {
   "codemirror_mode": {
    "name": "ipython",
    "version": 3
   },
   "file_extension": ".py",
   "mimetype": "text/x-python",
   "name": "python",
   "nbconvert_exporter": "python",
   "pygments_lexer": "ipython3",
   "version": "3.10.9"
  }
 },
 "nbformat": 4,
 "nbformat_minor": 2
}
