{
 "cells": [
  {
   "cell_type": "markdown",
   "metadata": {
    "id": "OgrOvcD9VZ8X"
   },
   "source": [
    "Revision"
   ]
  },
  {
   "cell_type": "code",
   "execution_count": 1,
   "metadata": {
    "colab": {
     "base_uri": "https://localhost:8080/"
    },
    "executionInfo": {
     "elapsed": 1146,
     "status": "ok",
     "timestamp": 1729770203431,
     "user": {
      "displayName": "Shahzor Ahmed",
      "userId": "10102924712430795387"
     },
     "user_tz": -330
    },
    "id": "LalCd53tVd9w",
    "outputId": "caccc90d-4c70-46bc-e0d7-7b49beee6c9e"
   },
   "outputs": [
    {
     "name": "stdout",
     "output_type": "stream",
     "text": [
      "Hello world\n"
     ]
    }
   ],
   "source": [
    "print(\"Hello world\")"
   ]
  },
  {
   "cell_type": "code",
   "execution_count": 2,
   "metadata": {
    "colab": {
     "base_uri": "https://localhost:8080/"
    },
    "executionInfo": {
     "elapsed": 564,
     "status": "ok",
     "timestamp": 1729770221646,
     "user": {
      "displayName": "Shahzor Ahmed",
      "userId": "10102924712430795387"
     },
     "user_tz": -330
    },
    "id": "Y_peOPMNViHb",
    "outputId": "afe03468-8f33-40a5-e8f9-6c4f8a60e718"
   },
   "outputs": [
    {
     "name": "stdout",
     "output_type": "stream",
     "text": [
      "10\n"
     ]
    }
   ],
   "source": [
    "a = 10;\n",
    "print(a)"
   ]
  },
  {
   "cell_type": "code",
   "execution_count": 3,
   "metadata": {
    "colab": {
     "base_uri": "https://localhost:8080/"
    },
    "executionInfo": {
     "elapsed": 585,
     "status": "ok",
     "timestamp": 1729770249917,
     "user": {
      "displayName": "Shahzor Ahmed",
      "userId": "10102924712430795387"
     },
     "user_tz": -330
    },
    "id": "Yv-w_DknVubz",
    "outputId": "30bf9880-0dd1-4c6c-fbe4-dfc3b2a54a3e"
   },
   "outputs": [
    {
     "name": "stdout",
     "output_type": "stream",
     "text": [
      "Shahzor Ahmed\n"
     ]
    }
   ],
   "source": [
    "Name = \"Shahzor Ahmed\"\n",
    "print(Name)"
   ]
  },
  {
   "cell_type": "code",
   "execution_count": 4,
   "metadata": {
    "colab": {
     "base_uri": "https://localhost:8080/"
    },
    "executionInfo": {
     "elapsed": 856,
     "status": "ok",
     "timestamp": 1729770502168,
     "user": {
      "displayName": "Shahzor Ahmed",
      "userId": "10102924712430795387"
     },
     "user_tz": -330
    },
    "id": "9o18wEieV1iP",
    "outputId": "04e78f80-be91-4cdf-b5fe-09518ba1eaea"
   },
   "outputs": [
    {
     "name": "stdout",
     "output_type": "stream",
     "text": [
      "40\n"
     ]
    }
   ],
   "source": [
    "b = 20\n",
    "b = 40\n",
    "print(b)"
   ]
  },
  {
   "cell_type": "code",
   "execution_count": 5,
   "metadata": {
    "colab": {
     "base_uri": "https://localhost:8080/"
    },
    "executionInfo": {
     "elapsed": 611,
     "status": "ok",
     "timestamp": 1729770523668,
     "user": {
      "displayName": "Shahzor Ahmed",
      "userId": "10102924712430795387"
     },
     "user_tz": -330
    },
    "id": "1mJfY4l-WzDT",
    "outputId": "cdd12621-d0c6-4853-b08c-f4f5defd21ec"
   },
   "outputs": [
    {
     "name": "stdout",
     "output_type": "stream",
     "text": [
      "20\n"
     ]
    }
   ],
   "source": [
    "b = 20\n",
    "B = 40\n",
    "print(b)"
   ]
  },
  {
   "cell_type": "code",
   "execution_count": 7,
   "metadata": {
    "colab": {
     "base_uri": "https://localhost:8080/"
    },
    "executionInfo": {
     "elapsed": 619,
     "status": "ok",
     "timestamp": 1729771439957,
     "user": {
      "displayName": "Shahzor Ahmed",
      "userId": "10102924712430795387"
     },
     "user_tz": -330
    },
    "id": "2IhN7xb6W4Ym",
    "outputId": "3fb46f0a-456b-4ca6-ee16-7914ceb721b6"
   },
   "outputs": [
    {
     "name": "stdout",
     "output_type": "stream",
     "text": [
      "<class 'str'>\n"
     ]
    }
   ],
   "source": [
    "print(type(Name))"
   ]
  },
  {
   "cell_type": "code",
   "execution_count": 12,
   "metadata": {
    "colab": {
     "base_uri": "https://localhost:8080/"
    },
    "executionInfo": {
     "elapsed": 5932,
     "status": "ok",
     "timestamp": 1729771645026,
     "user": {
      "displayName": "Shahzor Ahmed",
      "userId": "10102924712430795387"
     },
     "user_tz": -330
    },
    "id": "X-1nHzEzaH9J",
    "outputId": "e1d00584-58d3-463c-fc9a-74cd628b4b8d"
   },
   "outputs": [
    {
     "name": "stdout",
     "output_type": "stream",
     "text": [
      "Give first number: 20\n",
      "Give secound number: 30\n",
      "50\n"
     ]
    }
   ],
   "source": [
    "num1 = int(input(\"Give first number: \"))\n",
    "num2 = int(input(\"Give secound number: \"))\n",
    "print(num1 + num2)"
   ]
  },
  {
   "cell_type": "code",
   "execution_count": 13,
   "metadata": {
    "colab": {
     "base_uri": "https://localhost:8080/"
    },
    "executionInfo": {
     "elapsed": 10657,
     "status": "ok",
     "timestamp": 1729772132004,
     "user": {
      "displayName": "Shahzor Ahmed",
      "userId": "10102924712430795387"
     },
     "user_tz": -330
    },
    "id": "_7sw72W8ameF",
    "outputId": "9689f5f5-fb64-4231-b278-44112791419c"
   },
   "outputs": [
    {
     "name": "stdout",
     "output_type": "stream",
     "text": [
      "Give num1: 10.1\n",
      "Give num2: 11.1\n",
      "21.2\n"
     ]
    }
   ],
   "source": [
    "num_1 = float(input(\"Give num1: \"))\n",
    "num_2 = float(input(\"Give num2: \"))\n",
    "add_float_num = num_1 + num_2\n",
    "print(add_float_num)"
   ]
  },
  {
   "cell_type": "markdown",
   "metadata": {
    "id": "kh1vD2esktST"
   },
   "source": [
    "Condition Statements"
   ]
  },
  {
   "cell_type": "code",
   "execution_count": 14,
   "metadata": {
    "colab": {
     "base_uri": "https://localhost:8080/"
    },
    "executionInfo": {
     "elapsed": 1043,
     "status": "ok",
     "timestamp": 1729773011111,
     "user": {
      "displayName": "Shahzor Ahmed",
      "userId": "10102924712430795387"
     },
     "user_tz": -330
    },
    "id": "VHc1pvETc-cI",
    "outputId": "e3e22df8-633c-4bfd-ad60-633a438f9153"
   },
   "outputs": [
    {
     "name": "stdout",
     "output_type": "stream",
     "text": [
      "Hello\n"
     ]
    }
   ],
   "source": [
    "if True:\n",
    "  print(\"Hello\")"
   ]
  },
  {
   "cell_type": "code",
   "execution_count": 15,
   "metadata": {
    "executionInfo": {
     "elapsed": 616,
     "status": "ok",
     "timestamp": 1729773035456,
     "user": {
      "displayName": "Shahzor Ahmed",
      "userId": "10102924712430795387"
     },
     "user_tz": -330
    },
    "id": "CkbBEBwUgXks"
   },
   "outputs": [],
   "source": [
    "if False:\n",
    "  print(\"Hello\")"
   ]
  },
  {
   "cell_type": "code",
   "execution_count": 18,
   "metadata": {
    "colab": {
     "base_uri": "https://localhost:8080/"
    },
    "executionInfo": {
     "elapsed": 829,
     "status": "ok",
     "timestamp": 1729773174999,
     "user": {
      "displayName": "Shahzor Ahmed",
      "userId": "10102924712430795387"
     },
     "user_tz": -330
    },
    "id": "LuqXLYe4gdoy",
    "outputId": "198c1a5c-19ae-46b1-9b1f-31a7ffcbf838"
   },
   "outputs": [
    {
     "name": "stdout",
     "output_type": "stream",
     "text": [
      "Person is eligible to vote \n"
     ]
    }
   ],
   "source": [
    "age = 20;\n",
    "if age > 18:\n",
    "  print(\"Person is eligible to vote \")"
   ]
  },
  {
   "cell_type": "code",
   "execution_count": 19,
   "metadata": {
    "executionInfo": {
     "elapsed": 1027,
     "status": "ok",
     "timestamp": 1729773189981,
     "user": {
      "displayName": "Shahzor Ahmed",
      "userId": "10102924712430795387"
     },
     "user_tz": -330
    },
    "id": "9moFG3DhgzFu"
   },
   "outputs": [],
   "source": [
    "age = 15;\n",
    "if age > 18:\n",
    "  print(\"Person is eligible to vote \")"
   ]
  },
  {
   "cell_type": "code",
   "execution_count": 20,
   "metadata": {
    "colab": {
     "base_uri": "https://localhost:8080/"
    },
    "executionInfo": {
     "elapsed": 720,
     "status": "ok",
     "timestamp": 1729773651915,
     "user": {
      "displayName": "Shahzor Ahmed",
      "userId": "10102924712430795387"
     },
     "user_tz": -330
    },
    "id": "9g799n8chDPi",
    "outputId": "1c5a5e4f-8430-4fdf-8f77-8c3a9a74f68f"
   },
   "outputs": [
    {
     "name": "stdout",
     "output_type": "stream",
     "text": [
      "Person is not eligible to vote\n"
     ]
    }
   ],
   "source": [
    "age = 15;\n",
    "if age > 18:\n",
    "  print(\"Person is eligible to vote \")\n",
    "else:\n",
    "  print(\"Person is not eligible to vote\")"
   ]
  },
  {
   "cell_type": "code",
   "execution_count": 21,
   "metadata": {
    "colab": {
     "base_uri": "https://localhost:8080/"
    },
    "executionInfo": {
     "elapsed": 618,
     "status": "ok",
     "timestamp": 1729773701576,
     "user": {
      "displayName": "Shahzor Ahmed",
      "userId": "10102924712430795387"
     },
     "user_tz": -330
    },
    "id": "7Aa8imWYi0GL",
    "outputId": "67055b09-139e-46c0-e404-147ad90897fd"
   },
   "outputs": [
    {
     "name": "stdout",
     "output_type": "stream",
     "text": [
      "Person is eligible to vote \n"
     ]
    }
   ],
   "source": [
    "age = 22;\n",
    "if age > 18:\n",
    "  print(\"Person is eligible to vote \")\n",
    "else:\n",
    "  print(\"Person is not eligible to vote\")"
   ]
  },
  {
   "cell_type": "code",
   "execution_count": 24,
   "metadata": {
    "executionInfo": {
     "elapsed": 714,
     "status": "ok",
     "timestamp": 1729774109229,
     "user": {
      "displayName": "Shahzor Ahmed",
      "userId": "10102924712430795387"
     },
     "user_tz": -330
    },
    "id": "9rRpkQKhjAQL"
   },
   "outputs": [],
   "source": [
    "age = 18;\n",
    "if age > 18:\n",
    "  print(\"Person is eligible to vote \")"
   ]
  },
  {
   "cell_type": "code",
   "execution_count": 26,
   "metadata": {
    "colab": {
     "base_uri": "https://localhost:8080/"
    },
    "executionInfo": {
     "elapsed": 616,
     "status": "ok",
     "timestamp": 1729774121826,
     "user": {
      "displayName": "Shahzor Ahmed",
      "userId": "10102924712430795387"
     },
     "user_tz": -330
    },
    "id": "955OumREkV1F",
    "outputId": "ffdbf064-2207-4381-ab89-b230ca32590e"
   },
   "outputs": [
    {
     "name": "stdout",
     "output_type": "stream",
     "text": [
      "Person is eligible to vote \n"
     ]
    }
   ],
   "source": [
    "age = 22;\n",
    "if age >= 18:\n",
    "  print(\"Person is eligible to vote \")"
   ]
  },
  {
   "cell_type": "code",
   "execution_count": null,
   "metadata": {
    "id": "yB1svLV3kmGO"
   },
   "outputs": [],
   "source": []
  }
 ],
 "metadata": {
  "colab": {
   "authorship_tag": "ABX9TyNuR37OIiOsqKAwgRwPHcWN",
   "provenance": []
  },
  "kernelspec": {
   "display_name": "Python 3 (ipykernel)",
   "language": "python",
   "name": "python3"
  },
  "language_info": {
   "codemirror_mode": {
    "name": "ipython",
    "version": 3
   },
   "file_extension": ".py",
   "mimetype": "text/x-python",
   "name": "python",
   "nbconvert_exporter": "python",
   "pygments_lexer": "ipython3",
   "version": "3.10.9"
  }
 },
 "nbformat": 4,
 "nbformat_minor": 4
}
