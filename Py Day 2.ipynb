{
 "cells": [
  {
   "cell_type": "code",
   "execution_count": 1,
   "metadata": {
    "colab": {
     "base_uri": "https://localhost:8080/"
    },
    "executionInfo": {
     "elapsed": 1688,
     "status": "ok",
     "timestamp": 1729597502223,
     "user": {
      "displayName": "Shahzor Ahmed",
      "userId": "10102924712430795387"
     },
     "user_tz": -330
    },
    "id": "s0LtXlAgAxjN",
    "outputId": "27e8448c-1a28-47ca-9342-70642f56e3dc"
   },
   "outputs": [
    {
     "name": "stdout",
     "output_type": "stream",
     "text": [
      "Hello world\n"
     ]
    }
   ],
   "source": [
    "print(\"Hello world\")"
   ]
  },
  {
   "cell_type": "code",
   "execution_count": 4,
   "metadata": {
    "colab": {
     "base_uri": "https://localhost:8080/"
    },
    "executionInfo": {
     "elapsed": 6,
     "status": "ok",
     "timestamp": 1729597646705,
     "user": {
      "displayName": "Shahzor Ahmed",
      "userId": "10102924712430795387"
     },
     "user_tz": -330
    },
    "id": "yWdZU3TeCxd8",
    "outputId": "1f2fcb20-d617-4e45-e485-7b09cba14de6"
   },
   "outputs": [
    {
     "name": "stdout",
     "output_type": "stream",
     "text": [
      "30\n"
     ]
    }
   ],
   "source": [
    "a = 10\n",
    "b = 20;\n",
    "total = a + b\n",
    "print(total)"
   ]
  },
  {
   "cell_type": "code",
   "execution_count": 5,
   "metadata": {
    "colab": {
     "base_uri": "https://localhost:8080/"
    },
    "executionInfo": {
     "elapsed": 10,
     "status": "ok",
     "timestamp": 1729597729436,
     "user": {
      "displayName": "Shahzor Ahmed",
      "userId": "10102924712430795387"
     },
     "user_tz": -330
    },
    "id": "v7KGUV4aDJmP",
    "outputId": "dda0e1f0-f264-4113-b99c-ae6403a5c849"
   },
   "outputs": [
    {
     "name": "stdout",
     "output_type": "stream",
     "text": [
      "10\n"
     ]
    }
   ],
   "source": [
    "a = 10;\n",
    "b = a;\n",
    "print(b)"
   ]
  },
  {
   "cell_type": "code",
   "execution_count": 6,
   "metadata": {
    "colab": {
     "base_uri": "https://localhost:8080/"
    },
    "executionInfo": {
     "elapsed": 436,
     "status": "ok",
     "timestamp": 1729597753675,
     "user": {
      "displayName": "Shahzor Ahmed",
      "userId": "10102924712430795387"
     },
     "user_tz": -330
    },
    "id": "NCFJHYMbDuL5",
    "outputId": "dc495ec0-7d6b-4215-dcda-58285acf71b9"
   },
   "outputs": [
    {
     "name": "stdout",
     "output_type": "stream",
     "text": [
      "Shahzor\n"
     ]
    }
   ],
   "source": [
    "Name = \"Shahzor\"\n",
    "print(Name)"
   ]
  },
  {
   "cell_type": "code",
   "execution_count": 8,
   "metadata": {
    "colab": {
     "base_uri": "https://localhost:8080/"
    },
    "executionInfo": {
     "elapsed": 413,
     "status": "ok",
     "timestamp": 1729597995589,
     "user": {
      "displayName": "Shahzor Ahmed",
      "userId": "10102924712430795387"
     },
     "user_tz": -330
    },
    "id": "GB5VE54DD0S3",
    "outputId": "d9a418fe-f6f8-4eb6-dbfd-90f0057e181c"
   },
   "outputs": [
    {
     "name": "stdout",
     "output_type": "stream",
     "text": [
      "<class 'str'>\n"
     ]
    }
   ],
   "source": [
    "a = \"20\"\n",
    "print(type(a))"
   ]
  },
  {
   "cell_type": "code",
   "execution_count": 9,
   "metadata": {
    "colab": {
     "base_uri": "https://localhost:8080/"
    },
    "executionInfo": {
     "elapsed": 429,
     "status": "ok",
     "timestamp": 1729598044239,
     "user": {
      "displayName": "Shahzor Ahmed",
      "userId": "10102924712430795387"
     },
     "user_tz": -330
    },
    "id": "51NDH43qEctI",
    "outputId": "d4c37a0c-2b7e-416d-879d-f33f78b7e290"
   },
   "outputs": [
    {
     "name": "stdout",
     "output_type": "stream",
     "text": [
      "<class 'float'>\n"
     ]
    }
   ],
   "source": [
    "num = 20.36\n",
    "print(type(num))"
   ]
  },
  {
   "cell_type": "code",
   "execution_count": 10,
   "metadata": {
    "colab": {
     "base_uri": "https://localhost:8080/"
    },
    "executionInfo": {
     "elapsed": 4,
     "status": "ok",
     "timestamp": 1729598074356,
     "user": {
      "displayName": "Shahzor Ahmed",
      "userId": "10102924712430795387"
     },
     "user_tz": -330
    },
    "id": "6iJQRZGKE7QF",
    "outputId": "5c4664ae-3a29-40bd-980f-fd770d0fe2cb"
   },
   "outputs": [
    {
     "name": "stdout",
     "output_type": "stream",
     "text": [
      "<class 'str'>\n"
     ]
    }
   ],
   "source": [
    "num = \"20.36\"\n",
    "print(type(num))"
   ]
  },
  {
   "cell_type": "code",
   "execution_count": 11,
   "metadata": {
    "colab": {
     "base_uri": "https://localhost:8080/"
    },
    "executionInfo": {
     "elapsed": 4,
     "status": "ok",
     "timestamp": 1729598122866,
     "user": {
      "displayName": "Shahzor Ahmed",
      "userId": "10102924712430795387"
     },
     "user_tz": -330
    },
    "id": "-OIzFigcFCov",
    "outputId": "7fa1f050-c57c-4474-bbf0-f1f438140891"
   },
   "outputs": [
    {
     "name": "stdout",
     "output_type": "stream",
     "text": [
      "My Name is  Shahzor\n"
     ]
    }
   ],
   "source": [
    "Name = \"Shahzor\"\n",
    "print(\"My Name is \", Name)"
   ]
  },
  {
   "cell_type": "code",
   "execution_count": 12,
   "metadata": {
    "colab": {
     "base_uri": "https://localhost:8080/"
    },
    "executionInfo": {
     "elapsed": 434,
     "status": "ok",
     "timestamp": 1729598372683,
     "user": {
      "displayName": "Shahzor Ahmed",
      "userId": "10102924712430795387"
     },
     "user_tz": -330
    },
    "id": "w2ucR_gOFOdw",
    "outputId": "35a49a15-1bbd-4da0-abe0-e9d3657c84b5"
   },
   "outputs": [
    {
     "name": "stdout",
     "output_type": "stream",
     "text": [
      "10\n"
     ]
    }
   ],
   "source": [
    "a = 10\n",
    "A = 20\n",
    "print(a)"
   ]
  },
  {
   "cell_type": "code",
   "execution_count": 13,
   "metadata": {
    "executionInfo": {
     "elapsed": 421,
     "status": "ok",
     "timestamp": 1729598555013,
     "user": {
      "displayName": "Shahzor Ahmed",
      "userId": "10102924712430795387"
     },
     "user_tz": -330
    },
    "id": "QnYJfLCiGLSn"
   },
   "outputs": [],
   "source": [
    "DAYSINWEEK = 7\n",
    "# DAYSINWEEK IS A CONSTANT"
   ]
  },
  {
   "cell_type": "code",
   "execution_count": 15,
   "metadata": {
    "colab": {
     "base_uri": "https://localhost:8080/"
    },
    "executionInfo": {
     "elapsed": 419,
     "status": "ok",
     "timestamp": 1729599371307,
     "user": {
      "displayName": "Shahzor Ahmed",
      "userId": "10102924712430795387"
     },
     "user_tz": -330
    },
    "id": "LWKE93qHG3-L",
    "outputId": "0277f47f-7772-4eb0-d581-a40d6b99cabb"
   },
   "outputs": [
    {
     "name": "stdout",
     "output_type": "stream",
     "text": [
      "2\n",
      "3\n"
     ]
    }
   ],
   "source": [
    "A, B = 2,3;\n",
    "print(A)\n",
    "print(B)"
   ]
  },
  {
   "cell_type": "code",
   "execution_count": 16,
   "metadata": {
    "colab": {
     "base_uri": "https://localhost:8080/"
    },
    "executionInfo": {
     "elapsed": 433,
     "status": "ok",
     "timestamp": 1729599419921,
     "user": {
      "displayName": "Shahzor Ahmed",
      "userId": "10102924712430795387"
     },
     "user_tz": -330
    },
    "id": "xhxvuhJJJ8aa",
    "outputId": "d77d899c-07b2-4a65-974b-66cd84c07dd9"
   },
   "outputs": [
    {
     "name": "stdout",
     "output_type": "stream",
     "text": [
      "4\n"
     ]
    }
   ],
   "source": [
    "A = 2\n",
    "B = 2\n",
    "print(A+B)"
   ]
  },
  {
   "cell_type": "code",
   "execution_count": 17,
   "metadata": {
    "colab": {
     "base_uri": "https://localhost:8080/",
     "height": 180
    },
    "executionInfo": {
     "elapsed": 716,
     "status": "error",
     "timestamp": 1729599434563,
     "user": {
      "displayName": "Shahzor Ahmed",
      "userId": "10102924712430795387"
     },
     "user_tz": -330
    },
    "id": "0t_nzNKMKK22",
    "outputId": "950f8d7c-d1b1-4814-ec3b-8d81365e10f5"
   },
   "outputs": [
    {
     "ename": "TypeError",
     "evalue": "unsupported operand type(s) for +: 'int' and 'str'",
     "output_type": "error",
     "traceback": [
      "\u001b[0;31m---------------------------------------------------------------------------\u001b[0m",
      "\u001b[0;31mTypeError\u001b[0m                                 Traceback (most recent call last)",
      "\u001b[0;32m<ipython-input-17-abc2c1686bd2>\u001b[0m in \u001b[0;36m<cell line: 3>\u001b[0;34m()\u001b[0m\n\u001b[1;32m      1\u001b[0m \u001b[0mA\u001b[0m \u001b[0;34m=\u001b[0m \u001b[0;36m2\u001b[0m\u001b[0;34m\u001b[0m\u001b[0;34m\u001b[0m\u001b[0m\n\u001b[1;32m      2\u001b[0m \u001b[0mB\u001b[0m \u001b[0;34m=\u001b[0m \u001b[0;34m\"2\"\u001b[0m\u001b[0;34m\u001b[0m\u001b[0;34m\u001b[0m\u001b[0m\n\u001b[0;32m----> 3\u001b[0;31m \u001b[0mprint\u001b[0m\u001b[0;34m(\u001b[0m\u001b[0mA\u001b[0m\u001b[0;34m+\u001b[0m\u001b[0mB\u001b[0m\u001b[0;34m)\u001b[0m\u001b[0;34m\u001b[0m\u001b[0;34m\u001b[0m\u001b[0m\n\u001b[0m",
      "\u001b[0;31mTypeError\u001b[0m: unsupported operand type(s) for +: 'int' and 'str'"
     ]
    }
   ],
   "source": [
    "A = 2\n",
    "B = \"2\"\n",
    "print(A+B)"
   ]
  },
  {
   "cell_type": "code",
   "execution_count": 18,
   "metadata": {
    "colab": {
     "base_uri": "https://localhost:8080/"
    },
    "executionInfo": {
     "elapsed": 436,
     "status": "ok",
     "timestamp": 1729599449922,
     "user": {
      "displayName": "Shahzor Ahmed",
      "userId": "10102924712430795387"
     },
     "user_tz": -330
    },
    "id": "tUfUtoX-KOn5",
    "outputId": "4afc3b46-65ac-4db7-c58c-a61702876a8b"
   },
   "outputs": [
    {
     "name": "stdout",
     "output_type": "stream",
     "text": [
      "22\n"
     ]
    }
   ],
   "source": [
    "A = \"2\"\n",
    "B = \"2\"\n",
    "print(A+B)"
   ]
  },
  {
   "cell_type": "code",
   "execution_count": 19,
   "metadata": {
    "colab": {
     "base_uri": "https://localhost:8080/"
    },
    "executionInfo": {
     "elapsed": 397,
     "status": "ok",
     "timestamp": 1729599492706,
     "user": {
      "displayName": "Shahzor Ahmed",
      "userId": "10102924712430795387"
     },
     "user_tz": -330
    },
    "id": "c548DFC7KScm",
    "outputId": "df3a9baf-75cb-4f44-a70f-01fd9a103b93"
   },
   "outputs": [
    {
     "name": "stdout",
     "output_type": "stream",
     "text": [
      "HelloWorld\n"
     ]
    }
   ],
   "source": [
    "A = \"Hello\"\n",
    "B = \"World\"\n",
    "print(A+B)"
   ]
  },
  {
   "cell_type": "code",
   "execution_count": 21,
   "metadata": {
    "colab": {
     "base_uri": "https://localhost:8080/"
    },
    "executionInfo": {
     "elapsed": 2,
     "status": "ok",
     "timestamp": 1729599518592,
     "user": {
      "displayName": "Shahzor Ahmed",
      "userId": "10102924712430795387"
     },
     "user_tz": -330
    },
    "id": "nnVuqYCFKc55",
    "outputId": "e712e174-d4a7-4d0e-d004-87314ea3c65e"
   },
   "outputs": [
    {
     "name": "stdout",
     "output_type": "stream",
     "text": [
      "Hello World\n"
     ]
    }
   ],
   "source": [
    "A = \"Hello\"\n",
    "B = \"World\"\n",
    "print(A+\" \"+B)"
   ]
  },
  {
   "cell_type": "code",
   "execution_count": 22,
   "metadata": {
    "colab": {
     "base_uri": "https://localhost:8080/"
    },
    "executionInfo": {
     "elapsed": 3,
     "status": "ok",
     "timestamp": 1729599579245,
     "user": {
      "displayName": "Shahzor Ahmed",
      "userId": "10102924712430795387"
     },
     "user_tz": -330
    },
    "id": "M7NLY0EPKiSV",
    "outputId": "10b6ee5d-a3e5-4a01-a967-0f0bda26668f"
   },
   "outputs": [
    {
     "name": "stdout",
     "output_type": "stream",
     "text": [
      "6\n"
     ]
    }
   ],
   "source": [
    "A = 2\n",
    "B = 3\n",
    "print(A * B)"
   ]
  },
  {
   "cell_type": "code",
   "execution_count": 24,
   "metadata": {
    "colab": {
     "base_uri": "https://localhost:8080/"
    },
    "executionInfo": {
     "elapsed": 403,
     "status": "ok",
     "timestamp": 1729599634753,
     "user": {
      "displayName": "Shahzor Ahmed",
      "userId": "10102924712430795387"
     },
     "user_tz": -330
    },
    "id": "yxbrnlzlKyB1",
    "outputId": "65c7f2cf-4f90-42e8-9cb2-fbbbb0d90100"
   },
   "outputs": [
    {
     "name": "stdout",
     "output_type": "stream",
     "text": [
      "222\n"
     ]
    }
   ],
   "source": [
    "A = \"2\"\n",
    "B = 3\n",
    "print(A * B) # 2 will be printed 3 times"
   ]
  },
  {
   "cell_type": "code",
   "execution_count": 28,
   "metadata": {
    "colab": {
     "base_uri": "https://localhost:8080/"
    },
    "executionInfo": {
     "elapsed": 440,
     "status": "ok",
     "timestamp": 1729599918758,
     "user": {
      "displayName": "Shahzor Ahmed",
      "userId": "10102924712430795387"
     },
     "user_tz": -330
    },
    "id": "jvAiCCxiK5Qm",
    "outputId": "db7f5bd3-c448-4056-fa89-855c4b844a1a"
   },
   "outputs": [
    {
     "name": "stdout",
     "output_type": "stream",
     "text": [
      "@@\n",
      "@@@@@@\n",
      "@@@@@@\n"
     ]
    }
   ],
   "source": [
    "A, B = 2,3;\n",
    "Txt = \"@\"\n",
    "print(A * Txt)\n",
    "print(A * Txt * 3)\n",
    "print((A * Txt) * 3)  #2 @ will be printed 3 times"
   ]
  },
  {
   "cell_type": "code",
   "execution_count": 32,
   "metadata": {
    "colab": {
     "base_uri": "https://localhost:8080/"
    },
    "executionInfo": {
     "elapsed": 659,
     "status": "ok",
     "timestamp": 1729600080324,
     "user": {
      "displayName": "Shahzor Ahmed",
      "userId": "10102924712430795387"
     },
     "user_tz": -330
    },
    "id": "1TjNcRpaLYft",
    "outputId": "dd904903-5cdd-462d-a390-cf9cda38722c"
   },
   "outputs": [
    {
     "name": "stdout",
     "output_type": "stream",
     "text": [
      "2@\n",
      "2@2@2@\n"
     ]
    }
   ],
   "source": [
    "A, B = \"2\",3;\n",
    "txt = \"@\"\n",
    "print(A + txt)\n",
    "print((A + txt) * 3)"
   ]
  },
  {
   "cell_type": "code",
   "execution_count": 34,
   "metadata": {
    "colab": {
     "base_uri": "https://localhost:8080/"
    },
    "executionInfo": {
     "elapsed": 409,
     "status": "ok",
     "timestamp": 1729600292450,
     "user": {
      "displayName": "Shahzor Ahmed",
      "userId": "10102924712430795387"
     },
     "user_tz": -330
    },
    "id": "YShDhF4TMW5B",
    "outputId": "e5240243-07fc-424d-911e-93b2bbccd7af"
   },
   "outputs": [
    {
     "name": "stdout",
     "output_type": "stream",
     "text": [
      "14\n"
     ]
    }
   ],
   "source": [
    "A, B = 2,3\n",
    "c = 4\n",
    "print(A + B * c)\n",
    "# 3 * 4 then 2 = 14"
   ]
  },
  {
   "cell_type": "code",
   "execution_count": 35,
   "metadata": {
    "colab": {
     "base_uri": "https://localhost:8080/"
    },
    "executionInfo": {
     "elapsed": 3,
     "status": "ok",
     "timestamp": 1729600311936,
     "user": {
      "displayName": "Shahzor Ahmed",
      "userId": "10102924712430795387"
     },
     "user_tz": -330
    },
    "id": "MMSmqYUJNU32",
    "outputId": "5ebb7ac1-288d-4b79-ce91-3c1979b099b4"
   },
   "outputs": [
    {
     "name": "stdout",
     "output_type": "stream",
     "text": [
      "20\n"
     ]
    }
   ],
   "source": [
    "A, B = 2,3\n",
    "c = 4\n",
    "print((A + B) * c)"
   ]
  },
  {
   "cell_type": "code",
   "execution_count": 37,
   "metadata": {
    "colab": {
     "base_uri": "https://localhost:8080/"
    },
    "executionInfo": {
     "elapsed": 437,
     "status": "ok",
     "timestamp": 1729600376383,
     "user": {
      "displayName": "Shahzor Ahmed",
      "userId": "10102924712430795387"
     },
     "user_tz": -330
    },
    "id": "zrr-HdWbNk59",
    "outputId": "8c17fdd3-1615-485b-b3bf-669298e4b77d"
   },
   "outputs": [
    {
     "name": "stdout",
     "output_type": "stream",
     "text": [
      "0.5\n"
     ]
    }
   ],
   "source": [
    "A,B = 1,2\n",
    "C = A/B\n",
    "print(C)"
   ]
  },
  {
   "cell_type": "code",
   "execution_count": 39,
   "metadata": {
    "colab": {
     "base_uri": "https://localhost:8080/"
    },
    "executionInfo": {
     "elapsed": 544,
     "status": "ok",
     "timestamp": 1729600434691,
     "user": {
      "displayName": "Shahzor Ahmed",
      "userId": "10102924712430795387"
     },
     "user_tz": -330
    },
    "id": "3KaN7DgRNto4",
    "outputId": "44d33b6a-10ae-4694-c4b7-c1391cc72fad"
   },
   "outputs": [
    {
     "name": "stdout",
     "output_type": "stream",
     "text": [
      "2.4\n",
      "2\n"
     ]
    }
   ],
   "source": [
    "A = 12;\n",
    "B = 5;\n",
    "print(A/B)\n",
    "print(A//B)"
   ]
  },
  {
   "cell_type": "code",
   "execution_count": 41,
   "metadata": {
    "colab": {
     "base_uri": "https://localhost:8080/"
    },
    "executionInfo": {
     "elapsed": 388,
     "status": "ok",
     "timestamp": 1729600522152,
     "user": {
      "displayName": "Shahzor Ahmed",
      "userId": "10102924712430795387"
     },
     "user_tz": -330
    },
    "id": "R_ZDWFa-N_p_",
    "outputId": "57b83289-ff9e-44b3-c229-a30a6d8656c1"
   },
   "outputs": [
    {
     "name": "stdout",
     "output_type": "stream",
     "text": [
      "0.0\n",
      "0.5\n"
     ]
    }
   ],
   "source": [
    "A, B = 1.5, 3\n",
    "C = A//B\n",
    "print(C)\n",
    "print(A/B)"
   ]
  },
  {
   "cell_type": "code",
   "execution_count": 46,
   "metadata": {
    "colab": {
     "base_uri": "https://localhost:8080/"
    },
    "executionInfo": {
     "elapsed": 415,
     "status": "ok",
     "timestamp": 1729600613790,
     "user": {
      "displayName": "Shahzor Ahmed",
      "userId": "10102924712430795387"
     },
     "user_tz": -330
    },
    "id": "-ztr6-ChOS4l",
    "outputId": "c6d32d97-683c-41f3-d6a6-b405292109f7"
   },
   "outputs": [
    {
     "name": "stdout",
     "output_type": "stream",
     "text": [
      "-2.4\n",
      "-3\n"
     ]
    }
   ],
   "source": [
    "A = -12\n",
    "B = 5\n",
    "print(A/B)\n",
    "print(A//B)   # Lesser value will be printed"
   ]
  },
  {
   "cell_type": "code",
   "execution_count": 50,
   "metadata": {
    "colab": {
     "base_uri": "https://localhost:8080/"
    },
    "executionInfo": {
     "elapsed": 401,
     "status": "ok",
     "timestamp": 1729601076409,
     "user": {
      "displayName": "Shahzor Ahmed",
      "userId": "10102924712430795387"
     },
     "user_tz": -330
    },
    "id": "EmABE-4HOg9-",
    "outputId": "316288af-08ff-4937-e042-2395ef6292d8"
   },
   "outputs": [
    {
     "name": "stdout",
     "output_type": "stream",
     "text": [
      "12\n",
      "20\n"
     ]
    }
   ],
   "source": [
    "# a and b are being been added\n",
    "a = 10\n",
    "b = 2\n",
    "sum = a + b\n",
    "print(sum)\n",
    "\n",
    "# Two variables are being multipled\n",
    "a = 10\n",
    "b = 2\n",
    "sum = a * b\n",
    "print(sum)"
   ]
  },
  {
   "cell_type": "code",
   "execution_count": 54,
   "metadata": {
    "colab": {
     "base_uri": "https://localhost:8080/"
    },
    "executionInfo": {
     "elapsed": 3535,
     "status": "ok",
     "timestamp": 1729601271294,
     "user": {
      "displayName": "Shahzor Ahmed",
      "userId": "10102924712430795387"
     },
     "user_tz": -330
    },
    "id": "fsjnIA2XQfVL",
    "outputId": "6a12e42c-c279-4125-de6c-098cbb656550"
   },
   "outputs": [
    {
     "name": "stdout",
     "output_type": "stream",
     "text": [
      "Give me a value10\n",
      "10\n"
     ]
    }
   ],
   "source": [
    "a  = input(\"Give me a value\")\n",
    "print(a)"
   ]
  },
  {
   "cell_type": "code",
   "execution_count": 58,
   "metadata": {
    "colab": {
     "base_uri": "https://localhost:8080/"
    },
    "executionInfo": {
     "elapsed": 8268,
     "status": "ok",
     "timestamp": 1729601489481,
     "user": {
      "displayName": "Shahzor Ahmed",
      "userId": "10102924712430795387"
     },
     "user_tz": -330
    },
    "id": "PSCbTWv_Q3Xm",
    "outputId": "52847030-e369-4ce0-ba7c-fd211e9393b1"
   },
   "outputs": [
    {
     "name": "stdout",
     "output_type": "stream",
     "text": [
      "Give me a value10\n",
      "Give me b value20\n",
      "1020\n",
      "<class 'str'>\n",
      "<class 'str'>\n"
     ]
    }
   ],
   "source": [
    "a  = input(\"Give me a value\")\n",
    "b  = input(\"Give me b value\")\n",
    "print(a + b)\n",
    "print(type(a))\n",
    "print(type(b))"
   ]
  },
  {
   "cell_type": "code",
   "execution_count": 59,
   "metadata": {
    "colab": {
     "base_uri": "https://localhost:8080/"
    },
    "executionInfo": {
     "elapsed": 4,
     "status": "ok",
     "timestamp": 1729601562737,
     "user": {
      "displayName": "Shahzor Ahmed",
      "userId": "10102924712430795387"
     },
     "user_tz": -330
    },
    "id": "72WA_cljRbhL",
    "outputId": "17ee0379-5c21-48b2-9090-7ff2e9494256"
   },
   "outputs": [
    {
     "name": "stdout",
     "output_type": "stream",
     "text": [
      "10\n",
      "<class 'int'>\n"
     ]
    }
   ],
   "source": [
    "a = \"10\"\n",
    "b = int(a)\n",
    "print(b)\n",
    "print(type(b))"
   ]
  },
  {
   "cell_type": "code",
   "execution_count": 60,
   "metadata": {
    "colab": {
     "base_uri": "https://localhost:8080/"
    },
    "executionInfo": {
     "elapsed": 2703,
     "status": "ok",
     "timestamp": 1729601667455,
     "user": {
      "displayName": "Shahzor Ahmed",
      "userId": "10102924712430795387"
     },
     "user_tz": -330
    },
    "id": "mK6rNnfHSWWX",
    "outputId": "7a900448-6a8c-4b8b-da17-93405f5bab2c"
   },
   "outputs": [
    {
     "name": "stdout",
     "output_type": "stream",
     "text": [
      "Give me a value10\n",
      "10\n",
      "<class 'str'>\n"
     ]
    }
   ],
   "source": [
    "a  = input(\"Give me a value\")\n",
    "print(a);\n",
    "print(type(a))"
   ]
  },
  {
   "cell_type": "code",
   "execution_count": 61,
   "metadata": {
    "colab": {
     "base_uri": "https://localhost:8080/"
    },
    "executionInfo": {
     "elapsed": 3894,
     "status": "ok",
     "timestamp": 1729601687631,
     "user": {
      "displayName": "Shahzor Ahmed",
      "userId": "10102924712430795387"
     },
     "user_tz": -330
    },
    "id": "SBMLDrCGSvRH",
    "outputId": "13559481-c840-45b0-b153-81d6a83c9707"
   },
   "outputs": [
    {
     "name": "stdout",
     "output_type": "stream",
     "text": [
      "Give me a value10\n",
      "10\n",
      "<class 'int'>\n"
     ]
    }
   ],
   "source": [
    "a  = int(input(\"Give me a value\"))\n",
    "print(a);\n",
    "print(type(a))"
   ]
  },
  {
   "cell_type": "code",
   "execution_count": 63,
   "metadata": {
    "colab": {
     "base_uri": "https://localhost:8080/"
    },
    "executionInfo": {
     "elapsed": 5839,
     "status": "ok",
     "timestamp": 1729601782967,
     "user": {
      "displayName": "Shahzor Ahmed",
      "userId": "10102924712430795387"
     },
     "user_tz": -330
    },
    "id": "CXaTi7vwSz5q",
    "outputId": "8942df01-3a67-42e7-f722-7075fcf2067f"
   },
   "outputs": [
    {
     "name": "stdout",
     "output_type": "stream",
     "text": [
      "Give me a value: 10\n",
      "Give me b value: 20\n",
      "30\n"
     ]
    }
   ],
   "source": [
    "a  = int(input(\"Give me a value: \"))\n",
    "b = int(input(\"Give me b value: \"))\n",
    "print(a + b)"
   ]
  },
  {
   "cell_type": "code",
   "execution_count": 66,
   "metadata": {
    "colab": {
     "base_uri": "https://localhost:8080/"
    },
    "executionInfo": {
     "elapsed": 419,
     "status": "ok",
     "timestamp": 1729601941489,
     "user": {
      "displayName": "Shahzor Ahmed",
      "userId": "10102924712430795387"
     },
     "user_tz": -330
    },
    "id": "VTOFCq4iTEHW",
    "outputId": "7b89c968-8012-461a-b9e6-4e4c4019fbb8"
   },
   "outputs": [
    {
     "name": "stdout",
     "output_type": "stream",
     "text": [
      "2.4\n",
      "2\n"
     ]
    }
   ],
   "source": [
    "print(12 / 5)\n",
    "print(12 % 5)  # % will give you reminder"
   ]
  },
  {
   "cell_type": "code",
   "execution_count": null,
   "metadata": {
    "id": "JUp3sBIDTopZ"
   },
   "outputs": [],
   "source": []
  }
 ],
 "metadata": {
  "colab": {
   "authorship_tag": "ABX9TyM+2Om6rdjZZLmlhkmjv4NN",
   "provenance": []
  },
  "kernelspec": {
   "display_name": "Python 3 (ipykernel)",
   "language": "python",
   "name": "python3"
  },
  "language_info": {
   "codemirror_mode": {
    "name": "ipython",
    "version": 3
   },
   "file_extension": ".py",
   "mimetype": "text/x-python",
   "name": "python",
   "nbconvert_exporter": "python",
   "pygments_lexer": "ipython3",
   "version": "3.10.9"
  }
 },
 "nbformat": 4,
 "nbformat_minor": 4
}
