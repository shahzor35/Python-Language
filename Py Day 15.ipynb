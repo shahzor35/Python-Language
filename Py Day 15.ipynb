{
 "cells": [
  {
   "cell_type": "code",
   "execution_count": 18,
   "metadata": {},
   "outputs": [
    {
     "name": "stdout",
     "output_type": "stream",
     "text": [
      "Full name is John wick\n"
     ]
    }
   ],
   "source": [
    "studentDetails = {\n",
    "    \"FirstName\": \"John\",\n",
    "    \"lastName\": \"wick\"\n",
    "}\n",
    "fName = studentDetails[\"FirstName\"]\n",
    "lName = studentDetails[\"lastName\"]\n",
    "\n",
    "print(f\"Full name is {fName} {lName}\")"
   ]
  },
  {
   "cell_type": "code",
   "execution_count": 9,
   "metadata": {},
   "outputs": [
    {
     "name": "stdout",
     "output_type": "stream",
     "text": [
      "Full name is John wick\n"
     ]
    }
   ],
   "source": [
    "def getFullName():\n",
    "    print(f\"Full name is {fName} {lName}\")\n",
    "studentDetails = {\n",
    "    \"FirstName\": \"John\",\n",
    "    \"lastName\": \"wick\",\n",
    "    \"fullName\": getFullName\n",
    "}\n",
    "fName = studentDetails[\"FirstName\"]\n",
    "lName = studentDetails[\"lastName\"]\n",
    "getFullName()"
   ]
  },
  {
   "cell_type": "code",
   "execution_count": 10,
   "metadata": {},
   "outputs": [
    {
     "name": "stdout",
     "output_type": "stream",
     "text": [
      "Full name is John wick\n"
     ]
    }
   ],
   "source": [
    "def getFullName():\n",
    "    print(f\"Full name is {fName} {lName}\")\n",
    "studentDetails = {\n",
    "    \"FirstName\": \"John\",\n",
    "    \"lastName\": \"wick\",\n",
    "    \"fullName\": getFullName\n",
    "}\n",
    "studentDetails[\"fullName\"]()"
   ]
  },
  {
   "cell_type": "code",
   "execution_count": 14,
   "metadata": {},
   "outputs": [
    {
     "name": "stdout",
     "output_type": "stream",
     "text": [
      "{'Name': 'a', 'age': 20, 'city': 'Hyd', 'avgMarks': 80, 'stream': 'AIML'}\n",
      "{'Name': 'b', 'age': 20, 'city': 'Hyd', 'avgMarks': 50, 'stream': 'AIML'}\n",
      "{'Name': 'c', 'age': 20, 'city': 'Hyd', 'avgMarks': 70, 'stream': 'AIML'}\n"
     ]
    }
   ],
   "source": [
    "studentDetails1 = {\n",
    "    \"Name\": \"a\",\n",
    "    \"age\": 20,\n",
    "    \"city\": \"Hyd\",\n",
    "    \"avgMarks\": 80,\n",
    "    \"stream\": \"AIML\" \n",
    "}\n",
    "studentDetails2 = {\n",
    "    \"Name\": \"b\",\n",
    "    \"age\": 20,\n",
    "    \"city\": \"Hyd\",\n",
    "    \"avgMarks\": 50,\n",
    "    \"stream\": \"AIML\" \n",
    "}\n",
    "studentDetails3 = {\n",
    "    \"Name\": \"c\",\n",
    "    \"age\": 20,\n",
    "    \"city\": \"Hyd\",\n",
    "    \"avgMarks\": 70,\n",
    "    \"stream\": \"AIML\" \n",
    "}\n",
    "print(studentDetails1)\n",
    "print(studentDetails2)\n",
    "print(studentDetails3)"
   ]
  },
  {
   "cell_type": "code",
   "execution_count": 16,
   "metadata": {},
   "outputs": [
    {
     "name": "stdout",
     "output_type": "stream",
     "text": [
      "A\n",
      "20\n",
      "Hyd\n"
     ]
    }
   ],
   "source": [
    "class Student:\n",
    "    Name = \"A\"\n",
    "    Age = 20\n",
    "    City = \"Hyd\"\n",
    "\n",
    "s1 = Student()\n",
    "print(s1.Name)\n",
    "print(s1.Age)\n",
    "print(s1.City)"
   ]
  },
  {
   "cell_type": "code",
   "execution_count": 17,
   "metadata": {},
   "outputs": [
    {
     "name": "stdout",
     "output_type": "stream",
     "text": [
      "A\n",
      "20\n",
      "Hyd\n"
     ]
    }
   ],
   "source": [
    "s2 = Student()\n",
    "print(s2.Name)\n",
    "print(s2.Age)\n",
    "print(s2.City)"
   ]
  },
  {
   "cell_type": "code",
   "execution_count": 20,
   "metadata": {},
   "outputs": [
    {
     "name": "stdout",
     "output_type": "stream",
     "text": [
      "This is a constructor\n"
     ]
    }
   ],
   "source": [
    "class Student:\n",
    "    def __init__(self):\n",
    "        print(\"This is a constructor\")\n",
    "    Name = \"A\"\n",
    "    Age = 20\n",
    "    City = \"Hyd\"\n",
    "s1 = Student()"
   ]
  },
  {
   "cell_type": "code",
   "execution_count": 29,
   "metadata": {},
   "outputs": [
    {
     "name": "stdout",
     "output_type": "stream",
     "text": [
      "A\n",
      "20\n",
      "Hyd\n"
     ]
    }
   ],
   "source": [
    "class Student:\n",
    "    def __init__(self,Name,Age,City):\n",
    "        self.user_Name = Name\n",
    "        self.User_Age = Age\n",
    "        self.User_City = City\n",
    "s1 = Student(\"A\",20,\"Hyd\")\n",
    "print(s1.user_Name)\n",
    "print(s1.User_Age)\n",
    "print(s1.User_City)"
   ]
  },
  {
   "cell_type": "code",
   "execution_count": 30,
   "metadata": {},
   "outputs": [
    {
     "name": "stdout",
     "output_type": "stream",
     "text": [
      "B\n",
      "21\n",
      "Nzb\n"
     ]
    }
   ],
   "source": [
    "s1 = Student(\"B\",21,\"Nzb\")\n",
    "print(s1.user_Name)\n",
    "print(s1.User_Age)\n",
    "print(s1.User_City)"
   ]
  },
  {
   "cell_type": "code",
   "execution_count": 32,
   "metadata": {},
   "outputs": [
    {
     "name": "stdout",
     "output_type": "stream",
     "text": [
      "C\n",
      "19\n",
      "Bdn\n"
     ]
    }
   ],
   "source": [
    "s3 = Student(\"C\",19,\"Bdn\")\n",
    "print(s3.user_Name)\n",
    "print(s3.User_Age)\n",
    "print(s3.User_City)"
   ]
  },
  {
   "cell_type": "code",
   "execution_count": 35,
   "metadata": {},
   "outputs": [
    {
     "name": "stdout",
     "output_type": "stream",
     "text": [
      "BMW\n",
      "3000\n",
      "M5\n"
     ]
    }
   ],
   "source": [
    "class Car:\n",
    "    def __init__(self,Name,cc, Model):\n",
    "        self.Name = Name\n",
    "        self.cc = cc\n",
    "        self.Model = Model\n",
    "c1 = Car(\"BMW\", 3000, \"M5\")\n",
    "print(c1.Name)\n",
    "print(c1.cc)\n",
    "print(c1.Model)"
   ]
  },
  {
   "cell_type": "code",
   "execution_count": 36,
   "metadata": {},
   "outputs": [
    {
     "name": "stdout",
     "output_type": "stream",
     "text": [
      "Toyota\n",
      "3300\n",
      "Land Cruiser\n"
     ]
    }
   ],
   "source": [
    "c2 = Car(\"Toyota\", 3300, \"Land Cruiser\")\n",
    "print(c2.Name)\n",
    "print(c2.cc)\n",
    "print(c2.Model)"
   ]
  },
  {
   "cell_type": "code",
   "execution_count": 40,
   "metadata": {},
   "outputs": [
    {
     "name": "stdout",
     "output_type": "stream",
     "text": [
      "A\n",
      "[40, 80, 65, 90]\n"
     ]
    },
    {
     "data": {
      "text/plain": [
       "68.75"
      ]
     },
     "execution_count": 40,
     "metadata": {},
     "output_type": "execute_result"
    }
   ],
   "source": [
    "class Student:\n",
    "    def __init__(self,Name, Age, Marks):\n",
    "        self.Name = Name\n",
    "        self.Age = Age\n",
    "        self.Marks = Marks\n",
    "    def avgMarks(self):\n",
    "        total_marks = 0\n",
    "        count = 0\n",
    "        for mark in self.Marks:\n",
    "            total_marks += mark\n",
    "            count += 1\n",
    "        avg_marks = total_marks / count\n",
    "        return avg_marks\n",
    "s1 = Student(\"A\", 20, [40,80,65,90])\n",
    "print(s1.Name)\n",
    "print(s1.Marks)\n",
    "s1.avgMarks()"
   ]
  },
  {
   "cell_type": "code",
   "execution_count": null,
   "metadata": {},
   "outputs": [],
   "source": []
  }
 ],
 "metadata": {
  "kernelspec": {
   "display_name": "your_environment_name",
   "language": "python",
   "name": "your_environment_name"
  },
  "language_info": {
   "codemirror_mode": {
    "name": "ipython",
    "version": 3
   },
   "file_extension": ".py",
   "mimetype": "text/x-python",
   "name": "python",
   "nbconvert_exporter": "python",
   "pygments_lexer": "ipython3",
   "version": "3.10.9"
  }
 },
 "nbformat": 4,
 "nbformat_minor": 2
}
