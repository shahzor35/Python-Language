{
 "cells": [
  {
   "cell_type": "markdown",
   "metadata": {},
   "source": [
    "Polymorphisum"
   ]
  },
  {
   "cell_type": "code",
   "execution_count": 6,
   "metadata": {},
   "outputs": [
    {
     "name": "stdout",
     "output_type": "stream",
     "text": [
      "Bark\n",
      "Meow\n"
     ]
    }
   ],
   "source": [
    "class Dog:\n",
    "    def makesound(self):\n",
    "        print(\"Bark\")\n",
    "class Cat:\n",
    "    def makesound(self):\n",
    "        print(\"Meow\")\n",
    "\n",
    "dog_1 = Dog()\n",
    "dog_1.makesound()\n",
    "Cat_1 = Cat()\n",
    "Cat_1.makesound()"
   ]
  },
  {
   "cell_type": "code",
   "execution_count": 8,
   "metadata": {},
   "outputs": [
    {
     "name": "stdout",
     "output_type": "stream",
     "text": [
      "Bark\n",
      "Meow\n"
     ]
    }
   ],
   "source": [
    "class Dog:\n",
    "    def makesound(self):\n",
    "        print(\"Bark\")\n",
    "class Cat:\n",
    "    def makesound(self):\n",
    "        print(\"Meow\")\n",
    "\n",
    "\n",
    "def make_animal_sound(animal):\n",
    "    animal.makesound()\n",
    "dog_1 = Dog()\n",
    "Cat_1 = Cat()\n",
    "\n",
    "make_animal_sound(dog_1)\n",
    "make_animal_sound(Cat_1)"
   ]
  },
  {
   "cell_type": "code",
   "execution_count": 11,
   "metadata": {},
   "outputs": [
    {
     "name": "stdout",
     "output_type": "stream",
     "text": [
      "100\n"
     ]
    }
   ],
   "source": [
    "class BankDetails:\n",
    "    balance = 100\n",
    "    def viewBalance(self):\n",
    "        print(self.balance)\n",
    "\n",
    "person1Details = BankDetails()\n",
    "person1Details.viewBalance()"
   ]
  },
  {
   "cell_type": "code",
   "execution_count": 12,
   "metadata": {},
   "outputs": [
    {
     "ename": "AttributeError",
     "evalue": "'BankDetails' object has no attribute 'balance'",
     "output_type": "error",
     "traceback": [
      "\u001b[1;31m---------------------------------------------------------------------------\u001b[0m",
      "\u001b[1;31mAttributeError\u001b[0m                            Traceback (most recent call last)",
      "Cell \u001b[1;32mIn[12], line 7\u001b[0m\n\u001b[0;32m      4\u001b[0m         \u001b[38;5;28mprint\u001b[39m(\u001b[38;5;28mself\u001b[39m\u001b[38;5;241m.\u001b[39mbalance)\n\u001b[0;32m      6\u001b[0m person1Details \u001b[38;5;241m=\u001b[39m BankDetails()\n\u001b[1;32m----> 7\u001b[0m \u001b[43mperson1Details\u001b[49m\u001b[38;5;241;43m.\u001b[39;49m\u001b[43mviewBalance\u001b[49m\u001b[43m(\u001b[49m\u001b[43m)\u001b[49m\n",
      "Cell \u001b[1;32mIn[12], line 4\u001b[0m, in \u001b[0;36mBankDetails.viewBalance\u001b[1;34m(self)\u001b[0m\n\u001b[0;32m      3\u001b[0m \u001b[38;5;28;01mdef\u001b[39;00m \u001b[38;5;21mviewBalance\u001b[39m(\u001b[38;5;28mself\u001b[39m):\n\u001b[1;32m----> 4\u001b[0m     \u001b[38;5;28mprint\u001b[39m(\u001b[38;5;28;43mself\u001b[39;49m\u001b[38;5;241;43m.\u001b[39;49m\u001b[43mbalance\u001b[49m)\n",
      "\u001b[1;31mAttributeError\u001b[0m: 'BankDetails' object has no attribute 'balance'"
     ]
    }
   ],
   "source": [
    "class BankDetails:\n",
    "    __balance = 100\n",
    "    def viewBalance(self):\n",
    "        print(self.balance)\n",
    "\n",
    "person1Details = BankDetails()\n",
    "person1Details.viewBalance()"
   ]
  },
  {
   "cell_type": "code",
   "execution_count": 20,
   "metadata": {},
   "outputs": [
    {
     "name": "stdout",
     "output_type": "stream",
     "text": [
      "100\n",
      "110\n",
      "100\n"
     ]
    }
   ],
   "source": [
    "class BankDetails:\n",
    "    __balance = 100\n",
    "    def viewBalance(self):\n",
    "        print(self.__balance)\n",
    "    def addBalance(self, amount):\n",
    "        self.__balance = self.__balance + amount\n",
    "    def withdraw(self, amount):\n",
    "        self.__balance = self.__balance - amount\n",
    "person1Details = BankDetails()\n",
    "person1Details.viewBalance()\n",
    "person1Details.addBalance(10)\n",
    "person1Details.viewBalance()\n",
    "person1Details.withdraw(10)\n",
    "person1Details.viewBalance()"
   ]
  },
  {
   "cell_type": "code",
   "execution_count": 24,
   "metadata": {},
   "outputs": [
    {
     "name": "stdout",
     "output_type": "stream",
     "text": [
      "Car has stopped\n"
     ]
    }
   ],
   "source": [
    "class car:\n",
    "    def __init__(self, Name, Speed):\n",
    "        self.Name = Name\n",
    "        self.speed = Speed\n",
    "    def applyBreak(self):\n",
    "        self.speed = 0\n",
    "        print(\"Car has stopped\")\n",
    "\n",
    "car_1 = car(\"polo\", 80)\n",
    "car_1.speed\n",
    "car_1.applyBreak()"
   ]
  },
  {
   "cell_type": "code",
   "execution_count": 2,
   "metadata": {},
   "outputs": [
    {
     "name": "stdout",
     "output_type": "stream",
     "text": [
      "Incorrect number\n",
      "Incorrect number\n",
      "you guessed the number correctly.\n"
     ]
    }
   ],
   "source": [
    "guess_number = int(input(\"Guess the number : \"))\n",
    "computer_number = 7\n",
    "def checknum(guess_number):\n",
    "    if guess_number == computer_number:\n",
    "        print(\"you guessed the number correctly.\")\n",
    "    else:\n",
    "        print(\"Incorrect number\")\n",
    "        guess_number = int(input(\"Guess the number : \"))\n",
    "        checknum(guess_number)\n",
    "checknum(guess_number)"
   ]
  },
  {
   "cell_type": "code",
   "execution_count": null,
   "metadata": {},
   "outputs": [
    {
     "name": "stdout",
     "output_type": "stream",
     "text": [
      "Incorrect guess !! I have guess above it.\n",
      "Incorrect guess !! I have guess above it.\n",
      "Incorrect guess !! I have guess above it.\n",
      "Incorrect guess !! I have guess below it.\n",
      "Incorrect guess !! I have guess above it.\n",
      "You have guess the correct number.\n"
     ]
    }
   ],
   "source": [
    "import random\n",
    "computer_guess_number = random.randint(1,101)\n",
    "user_guess_number = int(input(\"Guess the number between 1 - 100 : \"))\n",
    "def check_number(user_guess_number):\n",
    "    if user_guess_number == computer_guess_number:\n",
    "        print(\"You have guessed the number correctly.\")\n",
    "    elif user_guess_number > computer_guess_number:\n",
    "      print(\"Incorrect guess !! I have guess below it.\")\n",
    "      user_guess_number = int(input(\"Guess the number between 1 - 100 : \"))\n",
    "      check_number(user_guess_number)\n",
    "    elif user_guess_number < computer_guess_number:\n",
    "        print(\"Incorrect guess !! I have guess above it.\")\n",
    "        user_guess_number = int(input(\"Guess the number between 1 - 100 : \"))\n",
    "        check_number(user_guess_number)\n",
    "check_number(user_guess_number)"
   ]
  },
  {
   "cell_type": "code",
   "execution_count": 1,
   "metadata": {},
   "outputs": [
    {
     "name": "stdout",
     "output_type": "stream",
     "text": [
      "Grandfather of tom is ross\n"
     ]
    }
   ],
   "source": [
    "people = [\n",
    "    [\"Mike\", \"paul\"],\n",
    "    [\"ross\", \"jack\"],\n",
    "    [\"tom\", \"robin\"],\n",
    "    [\"jane\", \"paul\"],\n",
    "    [\"jake\", \"abc\"],\n",
    "    [\"paul\", \"micheal\"],\n",
    "    [\"robin\", \"ross\"]\n",
    "]\n",
    "\n",
    "person = \"tom\"\n",
    "\n",
    "def findgrandfather(father):\n",
    "    for item in people:\n",
    "        if item[0] == father:\n",
    "            print(f\"Grandfather of {person} is {item[1]}\")\n",
    "            return\n",
    "    print(f\"No grandfather found for {person}\")\n",
    "\n",
    "for item in people:\n",
    "    if item[0] == person:\n",
    "        findgrandfather(item[1])\n",
    "        break\n",
    "else:\n",
    "    print(f\"No father found for {person}\")\n"
   ]
  }
 ],
 "metadata": {
  "kernelspec": {
   "display_name": "base",
   "language": "python",
   "name": "python3"
  },
  "language_info": {
   "codemirror_mode": {
    "name": "ipython",
    "version": 3
   },
   "file_extension": ".py",
   "mimetype": "text/x-python",
   "name": "python",
   "nbconvert_exporter": "python",
   "pygments_lexer": "ipython3",
   "version": "3.12.7"
  }
 },
 "nbformat": 4,
 "nbformat_minor": 2
}
