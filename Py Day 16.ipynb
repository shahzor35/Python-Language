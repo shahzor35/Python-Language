{
 "cells": [
  {
   "cell_type": "code",
   "execution_count": 1,
   "metadata": {},
   "outputs": [
    {
     "name": "stdout",
     "output_type": "stream",
     "text": [
      "A\n",
      "20\n",
      "Dancing\n"
     ]
    }
   ],
   "source": [
    "class Student:\n",
    "    Name = \"A\"\n",
    "    Age = 20\n",
    "    Hobby = \"Dancing\"\n",
    "\n",
    "s1 = Student()\n",
    "print(s1.Name)\n",
    "print(s1.Age)\n",
    "print(s1.Hobby)"
   ]
  },
  {
   "cell_type": "code",
   "execution_count": 2,
   "metadata": {},
   "outputs": [
    {
     "name": "stdout",
     "output_type": "stream",
     "text": [
      "A\n",
      "20\n",
      "Dancing\n"
     ]
    }
   ],
   "source": [
    "s2 = Student()\n",
    "print(s2.Name)\n",
    "print(s2.Age)\n",
    "print(s2.Hobby)"
   ]
  },
  {
   "cell_type": "code",
   "execution_count": 4,
   "metadata": {},
   "outputs": [
    {
     "name": "stdout",
     "output_type": "stream",
     "text": [
      "A\n",
      "20\n",
      "Dancing\n"
     ]
    }
   ],
   "source": [
    "class Student:\n",
    "    def __init__(self,Name,Age,Hobby):\n",
    "        self.Name = Name\n",
    "        self.Age = Age\n",
    "        self.Hobby = Hobby\n",
    "s3 = Student(\"A\", 20, \"Dancing\")\n",
    "print(s3.Name)\n",
    "print(s3.Age)\n",
    "print(s3.Hobby)"
   ]
  },
  {
   "cell_type": "code",
   "execution_count": 5,
   "metadata": {},
   "outputs": [
    {
     "name": "stdout",
     "output_type": "stream",
     "text": [
      "B\n",
      "20\n",
      "Coding\n"
     ]
    }
   ],
   "source": [
    "s4 = Student(\"B\", 20, \"Coding\")\n",
    "print(s4.Name)\n",
    "print(s4.Age)\n",
    "print(s4.Hobby)"
   ]
  },
  {
   "cell_type": "markdown",
   "metadata": {},
   "source": [
    "Encapsulation"
   ]
  },
  {
   "cell_type": "code",
   "execution_count": 6,
   "metadata": {},
   "outputs": [
    {
     "name": "stdout",
     "output_type": "stream",
     "text": [
      "A\n",
      "20\n",
      "80\n"
     ]
    }
   ],
   "source": [
    "class Student:\n",
    "    def __init__(self,Name,Age, avgMarks):\n",
    "        self.Name = Name\n",
    "        self.Age = Age\n",
    "        self.avgMarks = avgMarks\n",
    "\n",
    "s1 = Student(\"A\", 20, 80)\n",
    "print(s1.Name)\n",
    "print(s1.Age)\n",
    "print(s1.avgMarks)"
   ]
  },
  {
   "cell_type": "code",
   "execution_count": 8,
   "metadata": {},
   "outputs": [
    {
     "name": "stdout",
     "output_type": "stream",
     "text": [
      "A\n",
      "20\n"
     ]
    },
    {
     "ename": "AttributeError",
     "evalue": "'Student' object has no attribute '__avgMarks'",
     "output_type": "error",
     "traceback": [
      "\u001b[1;31m---------------------------------------------------------------------------\u001b[0m",
      "\u001b[1;31mAttributeError\u001b[0m                            Traceback (most recent call last)",
      "Cell \u001b[1;32mIn[8], line 10\u001b[0m\n\u001b[0;32m      8\u001b[0m \u001b[38;5;28mprint\u001b[39m(s1\u001b[38;5;241m.\u001b[39mName)\n\u001b[0;32m      9\u001b[0m \u001b[38;5;28mprint\u001b[39m(s1\u001b[38;5;241m.\u001b[39mAge)\n\u001b[1;32m---> 10\u001b[0m \u001b[38;5;28mprint\u001b[39m(\u001b[43ms1\u001b[49m\u001b[38;5;241;43m.\u001b[39;49m\u001b[43m__avgMarks\u001b[49m)\n",
      "\u001b[1;31mAttributeError\u001b[0m: 'Student' object has no attribute '__avgMarks'"
     ]
    }
   ],
   "source": [
    "class Student:\n",
    "    def __init__(self,Name,Age, avgMarks):\n",
    "        self.Name = Name\n",
    "        self.Age = Age\n",
    "        self.__avgMarks = avgMarks\n",
    "\n",
    "s1 = Student(\"A\", 20, 80)\n",
    "print(s1.Name)\n",
    "print(s1.Age)\n",
    "print(s1.__avgMarks)"
   ]
  },
  {
   "cell_type": "code",
   "execution_count": 9,
   "metadata": {},
   "outputs": [
    {
     "name": "stdout",
     "output_type": "stream",
     "text": [
      "A\n",
      "30\n",
      "300000\n"
     ]
    }
   ],
   "source": [
    "class BankDetails:\n",
    "    def __init__(self, Name, Age, Balance):\n",
    "        self.Name = Name\n",
    "        self.Age = Age\n",
    "        self.Balance = Balance\n",
    "\n",
    "db1 = BankDetails(\"A\", 30, 200000) \n",
    "db1.Balance += 100000\n",
    "print(db1.Name)\n",
    "print(db1.Age)\n",
    "print(db1.Balance)       "
   ]
  },
  {
   "cell_type": "code",
   "execution_count": 17,
   "metadata": {},
   "outputs": [
    {
     "name": "stdout",
     "output_type": "stream",
     "text": [
      "A\n",
      "30\n",
      "200000\n"
     ]
    }
   ],
   "source": [
    "class BankDetails:\n",
    "    def __init__(self, Name, Age, Balance):\n",
    "        self.Name = Name\n",
    "        self.Age = Age\n",
    "        self.__Balance = Balance\n",
    "    def bankBalance(self):\n",
    "        print(self.__Balance)\n",
    "\n",
    "db2 = BankDetails(\"A\", 30, 200000)\n",
    "print(db2.Name)\n",
    "print(db2.Age)\n",
    "db1.bankBalance()   "
   ]
  },
  {
   "cell_type": "code",
   "execution_count": 29,
   "metadata": {},
   "outputs": [
    {
     "name": "stdout",
     "output_type": "stream",
     "text": [
      "A\n",
      "21\n",
      "Your bank balance is :  15000\n"
     ]
    }
   ],
   "source": [
    "class HDFC_BANK:\n",
    "    def __init__(self,Name, Age, Balance):\n",
    "        self.Name = Name\n",
    "        self.Age = Age\n",
    "        self.__Balance = Balance\n",
    "\n",
    "    def bankBalance(self):\n",
    "        print(\"Your bank balance is : \",self.__Balance)\n",
    "    def addBalance(self, money):\n",
    "        self.__Balance += money\n",
    "        print(\"Your bank balance is : \",self.__Balance)\n",
    "    def withdraw(self, money):\n",
    "        if money > self.__Balance:\n",
    "            print(\"You have low balance\")\n",
    "        else:\n",
    "            self.__Balance = self.__Balance - money\n",
    "            print(\"Your bank balance is : \",self.__Balance)\n",
    "\n",
    "user_1 = HDFC_BANK(\"A\", 21, 15000)\n",
    "print(user_1.Name)\n",
    "print(user_1.Age)\n",
    "user_1.bankBalance()"
   ]
  },
  {
   "cell_type": "code",
   "execution_count": 30,
   "metadata": {},
   "outputs": [
    {
     "name": "stdout",
     "output_type": "stream",
     "text": [
      "Your bank balance is :  17000\n"
     ]
    }
   ],
   "source": [
    "user_1.addBalance(2000)"
   ]
  },
  {
   "cell_type": "code",
   "execution_count": 31,
   "metadata": {},
   "outputs": [
    {
     "name": "stdout",
     "output_type": "stream",
     "text": [
      "Your bank balance is :  15000\n"
     ]
    }
   ],
   "source": [
    "user_1.withdraw(2000)"
   ]
  },
  {
   "cell_type": "code",
   "execution_count": 32,
   "metadata": {},
   "outputs": [
    {
     "name": "stdout",
     "output_type": "stream",
     "text": [
      "You have low balance\n"
     ]
    }
   ],
   "source": [
    "user_1.withdraw(20000)"
   ]
  },
  {
   "cell_type": "code",
   "execution_count": 33,
   "metadata": {},
   "outputs": [
    {
     "name": "stdout",
     "output_type": "stream",
     "text": [
      "50\n",
      "A\n",
      "20\n"
     ]
    }
   ],
   "source": [
    "class Person:\n",
    "    Name = \"A\"\n",
    "    Age = 20\n",
    "class student(Person):\n",
    "    Marks = 50\n",
    "\n",
    "s1 = student()\n",
    "print(s1.Marks)\n",
    "print(s1.Name)\n",
    "print(s1.Age)"
   ]
  },
  {
   "cell_type": "code",
   "execution_count": 34,
   "metadata": {},
   "outputs": [
    {
     "name": "stdout",
     "output_type": "stream",
     "text": [
      "50\n",
      "A\n",
      "20\n"
     ]
    }
   ],
   "source": [
    "s2 = student()\n",
    "print(s2.Marks)\n",
    "print(s2.Name)\n",
    "print(s2.Age)"
   ]
  },
  {
   "cell_type": "markdown",
   "metadata": {},
   "source": [
    "Inheritance"
   ]
  },
  {
   "cell_type": "code",
   "execution_count": 39,
   "metadata": {},
   "outputs": [
    {
     "name": "stdout",
     "output_type": "stream",
     "text": [
      "A\n",
      "20\n",
      "85\n"
     ]
    }
   ],
   "source": [
    "class Person:\n",
    "    def __init__(self, Name, Age):\n",
    "        self.Name = Name\n",
    "        self.Age = Age\n",
    "class student(Person):\n",
    "    def __init__(self, Name, Age, Marks):\n",
    "        super().__init__(Name, Age)\n",
    "        self.Marks = Marks\n",
    "\n",
    "s1 = student(\"A\", 20, 85)\n",
    "print(s1.Name)\n",
    "print(s1.Age)\n",
    "print(s1.Marks)"
   ]
  },
  {
   "cell_type": "code",
   "execution_count": 40,
   "metadata": {},
   "outputs": [
    {
     "name": "stdout",
     "output_type": "stream",
     "text": [
      "B\n",
      "25\n",
      "300000\n"
     ]
    }
   ],
   "source": [
    "class Employee(Person):\n",
    "    def __init__(self, Name, Age, Salary):\n",
    "        super().__init__(Name , Age)\n",
    "        self.Salary = Salary\n",
    "e1 = Employee(\"B\", 25, 300000)\n",
    "print(e1.Name)\n",
    "print(e1.Age)\n",
    "print(e1.Salary)"
   ]
  },
  {
   "cell_type": "code",
   "execution_count": null,
   "metadata": {},
   "outputs": [],
   "source": []
  }
 ],
 "metadata": {
  "kernelspec": {
   "display_name": "your_environment_name",
   "language": "python",
   "name": "your_environment_name"
  },
  "language_info": {
   "codemirror_mode": {
    "name": "ipython",
    "version": 3
   },
   "file_extension": ".py",
   "mimetype": "text/x-python",
   "name": "python",
   "nbconvert_exporter": "python",
   "pygments_lexer": "ipython3",
   "version": "3.10.9"
  }
 },
 "nbformat": 4,
 "nbformat_minor": 2
}
