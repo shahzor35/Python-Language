{
 "cells": [
  {
   "cell_type": "code",
   "execution_count": 1,
   "metadata": {},
   "outputs": [
    {
     "name": "stdout",
     "output_type": "stream",
     "text": [
      "[1, 5, 10]\n"
     ]
    }
   ],
   "source": [
    "def filterNumber(no):\n",
    "    if(no > 0):\n",
    "        return True\n",
    "my_list = [1,-6,5,-1,-6,0,10]\n",
    "result = filter(filterNumber, my_list)\n",
    "print(list(result))"
   ]
  },
  {
   "cell_type": "code",
   "execution_count": 3,
   "metadata": {},
   "outputs": [
    {
     "name": "stdout",
     "output_type": "stream",
     "text": [
      "[4, 7, 11]\n"
     ]
    }
   ],
   "source": [
    "def checkPositiveNO(no):\n",
    "    if (no > 0):\n",
    "        return True\n",
    "numbers = [-10, 4, 7, -9, -12, 11]\n",
    "result = filter(checkPositiveNO, numbers)\n",
    "print(list(result))"
   ]
  },
  {
   "cell_type": "code",
   "execution_count": 9,
   "metadata": {},
   "outputs": [
    {
     "name": "stdout",
     "output_type": "stream",
     "text": [
      "Only printing even numbers that is positive  [10, 4, 2, 4, 6, 4, 8]\n"
     ]
    }
   ],
   "source": [
    "def checkEvenNO(no):\n",
    "    if no % 2 == 0:\n",
    "        if no > 0:\n",
    "            return True\n",
    "numbers = [0,10,-10, 4, 7, 9, -12, 11,2,4,6,4,3,5,8,13,69]\n",
    "result = filter(checkEvenNO, numbers)\n",
    "print(\"Only printing even numbers that is positive \",list(result))"
   ]
  },
  {
   "cell_type": "code",
   "execution_count": 21,
   "metadata": {},
   "outputs": [
    {
     "name": "stdout",
     "output_type": "stream",
     "text": [
      "[{'name': 'John', 'grade': 85}, {'name': 'Jane', 'grade': 95}, {'name': 'faizan', 'grade': 100}]\n"
     ]
    }
   ],
   "source": [
    "student = [\n",
    "    {'name': 'John', 'grade': 85,},\n",
    "    {'name': 'Jane', 'grade': 95},\n",
    "    {'name': 'Bob', 'grade': 60},\n",
    "    {'name': 'Alice', 'grade': 75},\n",
    "    {'name': 'faizan', 'grade': 100}\n",
    "]\n",
    "def student_above_80(student):\n",
    "    if (student[\"grade\"] > 80):\n",
    "        return True\n",
    "result = filter(student_above_80, student)\n",
    "print(list(result))"
   ]
  },
  {
   "cell_type": "code",
   "execution_count": 23,
   "metadata": {},
   "outputs": [
    {
     "name": "stdout",
     "output_type": "stream",
     "text": [
      "10\n"
     ]
    }
   ],
   "source": [
    "from functools import reduce\n",
    "def add(x,y):\n",
    "    return x + y;\n",
    "numbers = [1,2,3,4]\n",
    "result = reduce(add, numbers, 0)\n",
    "print(result)"
   ]
  },
  {
   "cell_type": "code",
   "execution_count": 37,
   "metadata": {},
   "outputs": [
    {
     "name": "stdout",
     "output_type": "stream",
     "text": [
      "315\n"
     ]
    }
   ],
   "source": [
    "from functools import reduce\n",
    "student = [\n",
    "    {'name': 'John', 'grade': 85,},\n",
    "    {'name': 'Jane', 'grade': 95},\n",
    "    {'name': 'Bob', 'grade': 60},\n",
    "    {'name': 'Alice', 'grade': 75}\n",
    "]\n",
    "def add_grade(total_grade,student):\n",
    "    total_grade = total_grade + student[\"grade\"]\n",
    "    return total_grade\n",
    "result = reduce(add_grade, student,0)\n",
    "print(result)"
   ]
  },
  {
   "cell_type": "code",
   "execution_count": 6,
   "metadata": {},
   "outputs": [
    {
     "name": "stdout",
     "output_type": "stream",
     "text": [
      "[{'name': 'John', 'grade': 85, 'city': 'Hyderabad'}, {'name': 'nazish', 'grade': 89, 'city': 'Hyderabad'}]\n"
     ]
    }
   ],
   "source": [
    "from functools import reduce\n",
    "student = [\n",
    "    {'name': 'John', 'grade': 85,'city': 'Hyderabad'},\n",
    "    {'name': 'Jane', 'grade': 95,'city': 'Nizamabad'},\n",
    "    {'name': 'Bob', 'grade': 60,'city': 'Hyderabad'},\n",
    "    {'name': 'Alice', 'grade': 75,'city': 'Warangal'},\n",
    "    {'name': 'nazish', 'grade': 89,'city': 'Hyderabad'},\n",
    "    {'name': 'Faizan', 'grade': 79,'city': 'Nizamabad'}\n",
    "]\n",
    "def grade_city(student):\n",
    "    if (student['grade'] >= 85 and student['city'] == 'Hyderabad'):\n",
    "        return True\n",
    "result = filter(grade_city, student)\n",
    "print(list(result))"
   ]
  },
  {
   "cell_type": "code",
   "execution_count": null,
   "metadata": {},
   "outputs": [],
   "source": []
  }
 ],
 "metadata": {
  "kernelspec": {
   "display_name": "your_environment_name",
   "language": "python",
   "name": "your_environment_name"
  },
  "language_info": {
   "codemirror_mode": {
    "name": "ipython",
    "version": 3
   },
   "file_extension": ".py",
   "mimetype": "text/x-python",
   "name": "python",
   "nbconvert_exporter": "python",
   "pygments_lexer": "ipython3",
   "version": "3.10.9"
  }
 },
 "nbformat": 4,
 "nbformat_minor": 4
}
